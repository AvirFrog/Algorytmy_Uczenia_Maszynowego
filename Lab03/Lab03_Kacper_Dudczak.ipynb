{
 "cells": [
  {
   "cell_type": "markdown",
   "id": "fc5f8f85-b201-443c-8417-025337b9520f",
   "metadata": {},
   "source": [
    "# Laboratorium 3 - Kacper Dudczak"
   ]
  },
  {
   "cell_type": "markdown",
   "id": "6ae06092-c320-4ba2-99fa-2ca9dc21738e",
   "metadata": {},
   "source": [
    "## Zadanie:\n",
    "\n",
    "Plik fires_thefts.csv zawiera rzeczywiste dane zebrane przez U.S. Commission on Civil Rights, przedstawiające liczbę pożarów w danej dzielnicy na tysiąc gospodarstw domowych (pierwsza kolumna) oraz liczbę włamań w tej samej dzielnicy na tysiąc mieszkańców (druga kolumna).\n",
    "\n",
    "Stwórz model (regresja liniowa) przewidujący liczbę włamań na podstawie liczby pożarów:\n",
    "\n",
    "- Oblicz parametry 𝜃 krzywej regresyjnej za pomocą metody gradientu prostego (gradient descent). Możesz wybrać wersję iteracyjną lub macierzową algorytmu.\n",
    "- Wykorzystując uzyskaną krzywą regresyjną przepowiedz liczbę włamań na tysiąc mieszkańców dla dzielnicy, w której występuje średnio 50, 100, 200 pożarów na tysiąc gospodarstw domowych.\n",
    "\n"
   ]
  },
  {
   "cell_type": "code",
   "execution_count": 8,
   "id": "2ce44bbf-89c3-4dfa-87af-96bd84686701",
   "metadata": {},
   "outputs": [],
   "source": [
    "import numpy as np\n",
    "import matplotlib\n",
    "import matplotlib.pyplot as plt\n",
    "import ipywidgets as widgets\n",
    "import pandas as pd\n",
    "\n",
    "%matplotlib inline\n",
    "%config InlineBackend.figure_format = \"svg\"\n",
    "\n",
    "from IPython.display import display, Math, Latex"
   ]
  },
  {
   "cell_type": "markdown",
   "id": "2067c30c-9562-4b68-a7fb-ef84227b2017",
   "metadata": {},
   "source": [
    "### Wczytanie danych"
   ]
  },
  {
   "cell_type": "code",
   "execution_count": 9,
   "id": "711426d4-5a4d-4236-9cc9-9b3755453e71",
   "metadata": {},
   "outputs": [
    {
     "name": "stdout",
     "output_type": "stream",
     "text": [
      "       x    y\n",
      "0    6.2   29\n",
      "1    9.5   44\n",
      "2   10.5   36\n",
      "3    7.7   37\n",
      "4    8.6   53\n",
      "5   34.1   68\n",
      "6   11.0   75\n",
      "7    6.9   18\n",
      "8    7.3   31\n",
      "9   15.1   25\n",
      "10  29.1   34\n",
      "11   2.2   14\n",
      "12   5.7   11\n",
      "13   2.0   11\n",
      "14   2.5   22\n",
      "15   4.0   16\n",
      "16   5.4   27\n",
      "17   2.2    9\n",
      "18   7.2   29\n",
      "19  15.1   30\n",
      "20  16.5   40\n",
      "21  18.4   32\n",
      "22  36.2   41\n",
      "23  39.7  147\n",
      "24  18.5   22\n",
      "25  23.3   29\n",
      "26  12.2   46\n",
      "27   5.6   23\n",
      "28  21.8    4\n",
      "29  21.6   31\n",
      "30   9.0   39\n",
      "31   3.6   15\n",
      "32   5.0   32\n",
      "33  28.6   27\n",
      "34  17.4   32\n",
      "35  11.3   34\n",
      "36   3.4   17\n",
      "37  11.9   46\n",
      "38  10.5   42\n",
      "39  10.7   43\n",
      "40  10.8   34\n",
      "41   4.8   19\n"
     ]
    }
   ],
   "source": [
    "data = pd.read_csv(\"fires_thefts.csv\", names=[\"x\", \"y\"])\n",
    "print(data)\n",
    "\n",
    "x = data[[\"x\"]].to_numpy().flatten()\n",
    "y = data[[\"y\"]].to_numpy().flatten()"
   ]
  },
  {
   "cell_type": "code",
   "execution_count": 10,
   "id": "cdb51061-a788-4af6-a47f-108f50395382",
   "metadata": {},
   "outputs": [],
   "source": [
    "# Hipoteza: funkcja liniowa jednej zmiennej\n",
    "\n",
    "def h(theta, x):\n",
    "    return theta[0] + theta[1] * x"
   ]
  },
  {
   "cell_type": "code",
   "execution_count": 11,
   "id": "a982c5aa-be6c-492f-9137-c5725ac63523",
   "metadata": {},
   "outputs": [],
   "source": [
    "def J(h, theta, x, y):\n",
    "    \"\"\"Funkcja kosztu\"\"\"\n",
    "    m = len(y)\n",
    "    return 1.0 / (2 * m) * sum((h(theta, x[i]) - y[i])**2 for i in range(m))"
   ]
  },
  {
   "cell_type": "code",
   "execution_count": 12,
   "id": "d97364a0-cd94-4357-b23e-eed619ee68bf",
   "metadata": {},
   "outputs": [],
   "source": [
    "# Wyświetlanie macierzy w LaTeX-u\n",
    "\n",
    "def LatexMatrix(matrix):\n",
    "    ltx = r'\\left[\\begin{array}'\n",
    "    m, n = matrix.shape\n",
    "    ltx += '{' + (\"r\" * n) + '}'\n",
    "    for i in range(m):\n",
    "        ltx += r\" & \".join([('%.4f' % j.item()) for j in matrix[i]]) + r\" \\\\ \"\n",
    "    ltx += r'\\end{array}\\right]'\n",
    "    return ltx"
   ]
  },
  {
   "cell_type": "code",
   "execution_count": 13,
   "id": "41ae0b2b-173d-400b-abb3-ae497d87bd4a",
   "metadata": {},
   "outputs": [],
   "source": [
    "def gradient_descent(h, cost_fun, theta, x, y, alpha, eps):\n",
    "    current_cost = cost_fun(h, theta, x, y)\n",
    "    log = [[current_cost, theta]]  # log przechowuje wartości kosztu i parametrów\n",
    "    m = len(y)\n",
    "    while True:\n",
    "        new_theta = [\n",
    "            theta[0] - alpha/float(m) * sum(h(theta, x[i]) - y[i]\n",
    "                                            for i in range(m)),   \n",
    "            theta[1] - alpha/float(m) * sum((h(theta, x[i]) - y[i]) * x[i]\n",
    "                                            for i in range(m))]\n",
    "        theta = new_theta  # jednoczesna aktualizacja - używamy zmiennej tymczasowej\n",
    "        prev_cost = current_cost\n",
    "        current_cost = cost_fun(h, theta, x, y)\n",
    "        if current_cost > prev_cost:\n",
    "            print(\"Zbyt duża długość kroku!\")\n",
    "            break\n",
    "        if abs(prev_cost - current_cost) <= eps:\n",
    "            break     \n",
    "        log.append([current_cost, theta])\n",
    "    return theta, log"
   ]
  },
  {
   "cell_type": "code",
   "execution_count": 14,
   "id": "db0165dd-4cb2-4b27-ab9f-7cd6ebbbd9d9",
   "metadata": {},
   "outputs": [
    {
     "data": {
      "text/latex": [
       "$\\displaystyle \\large\\textrm{Wynik:}\\quad \\theta = \\left[\\begin{array}{r}16.9675 \\\\ 1.3149 \\\\ \\end{array}\\right] \\quad J(\\theta) = 180.4102 \\quad \\textrm{po 17780 iteracjach}$"
      ],
      "text/plain": [
       "<IPython.core.display.Math object>"
      ]
     },
     "metadata": {},
     "output_type": "display_data"
    }
   ],
   "source": [
    "best_theta, log = gradient_descent(h, J, [0.0, 0.0], x, y, alpha=0.001, eps=0.0000001)\n",
    "\n",
    "display(Math(r'\\large\\textrm{Wynik:}\\quad \\theta = ' + \n",
    "             LatexMatrix(np.matrix(best_theta).reshape(2,1)) + \n",
    "            (r' \\quad J(\\theta) = %.4f' % log[-1][0])  \n",
    "            + r' \\quad \\textrm{po %d iteracjach}' % len(log))) "
   ]
  },
  {
   "cell_type": "markdown",
   "id": "15edf2b8-e633-41cb-abf6-9e6699651db2",
   "metadata": {},
   "source": [
    "### Przewidywanie ilości włamań na tysiąc mieszkańców dla dzielnicy, w której występuje średnio 50/100/150/200 pożarów"
   ]
  },
  {
   "cell_type": "code",
   "execution_count": 36,
   "id": "290a44bb-631b-44a3-a59f-5142ef3ba634",
   "metadata": {},
   "outputs": [],
   "source": [
    "def slide1(example1):\n",
    "    print(f\"Przewidywana liczba włamań na tysiąc mieszkańców dla dzielnicy, w której występuje średnio {example1} pożarow: {h(best_theta, example1)}\")\n",
    "\n",
    "slider_e = widgets.IntSlider(min=50, max=200, step=50, value=1.0, description=\"Pożary\", width=500)"
   ]
  },
  {
   "cell_type": "code",
   "execution_count": 37,
   "id": "73bab60f-b172-40b3-b512-843fbf7d00b7",
   "metadata": {},
   "outputs": [
    {
     "data": {
      "application/vnd.jupyter.widget-view+json": {
       "model_id": "15f9f4ffb5804b70b1f6929b93a7a77c",
       "version_major": 2,
       "version_minor": 0
      },
      "text/plain": [
       "interactive(children=(IntSlider(value=50, description='Pożary', max=200, min=50, step=50), Button(description=…"
      ]
     },
     "metadata": {},
     "output_type": "display_data"
    },
    {
     "data": {
      "text/plain": [
       "<function __main__.slide1(example1)>"
      ]
     },
     "execution_count": 37,
     "metadata": {},
     "output_type": "execute_result"
    }
   ],
   "source": [
    "widgets.interact_manual(slide1, example1=slider_e)"
   ]
  }
 ],
 "metadata": {
  "kernelspec": {
   "display_name": "Python 3 (ipykernel)",
   "language": "python",
   "name": "python3"
  },
  "language_info": {
   "codemirror_mode": {
    "name": "ipython",
    "version": 3
   },
   "file_extension": ".py",
   "mimetype": "text/x-python",
   "name": "python",
   "nbconvert_exporter": "python",
   "pygments_lexer": "ipython3",
   "version": "3.8.12"
  }
 },
 "nbformat": 4,
 "nbformat_minor": 5
}
