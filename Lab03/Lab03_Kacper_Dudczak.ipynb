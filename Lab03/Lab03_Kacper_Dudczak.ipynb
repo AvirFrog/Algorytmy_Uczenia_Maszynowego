{
 "cells": [
  {
   "cell_type": "markdown",
   "id": "fc5f8f85-b201-443c-8417-025337b9520f",
   "metadata": {},
   "source": [
    "# Laboratorium 3 - Kacper Dudczak"
   ]
  },
  {
   "cell_type": "markdown",
   "id": "6ae06092-c320-4ba2-99fa-2ca9dc21738e",
   "metadata": {},
   "source": [
    "## Zadanie:\n",
    "\n",
    "Plik fires_thefts.csv zawiera rzeczywiste dane zebrane przez U.S. Commission on Civil Rights, przedstawiające liczbę pożarów w danej dzielnicy na tysiąc gospodarstw domowych (pierwsza kolumna) oraz liczbę włamań w tej samej dzielnicy na tysiąc mieszkańców (druga kolumna).\n",
    "\n",
    "Stwórz model (regresja liniowa) przewidujący liczbę włamań na podstawie liczby pożarów:\n",
    "\n",
    "- Oblicz parametry 𝜃 krzywej regresyjnej za pomocą metody gradientu prostego (gradient descent). Możesz wybrać wersję iteracyjną lub macierzową algorytmu.\n",
    "- Wykorzystując uzyskaną krzywą regresyjną przepowiedz liczbę włamań na tysiąc mieszkańców dla dzielnicy, w której występuje średnio 50, 100, 200 pożarów na tysiąc gospodarstw domowych.\n",
    "\n"
   ]
  },
  {
   "cell_type": "code",
   "execution_count": 1,
   "id": "2ce44bbf-89c3-4dfa-87af-96bd84686701",
   "metadata": {},
   "outputs": [],
   "source": [
    "import numpy as np\n",
    "import matplotlib\n",
    "import matplotlib.pyplot as plt\n",
    "import ipywidgets as widgets\n",
    "import pandas as pd\n",
    "\n",
    "%matplotlib inline\n",
    "%config InlineBackend.figure_format = \"svg\"\n",
    "\n",
    "from IPython.display import display, Math, Latex"
   ]
  },
  {
   "cell_type": "code",
   "execution_count": 4,
   "id": "711426d4-5a4d-4236-9cc9-9b3755453e71",
   "metadata": {},
   "outputs": [
    {
     "name": "stdout",
     "output_type": "stream",
     "text": [
      "       x    y\n",
      "0    6.2   29\n",
      "1    9.5   44\n",
      "2   10.5   36\n",
      "3    7.7   37\n",
      "4    8.6   53\n",
      "5   34.1   68\n",
      "6   11.0   75\n",
      "7    6.9   18\n",
      "8    7.3   31\n",
      "9   15.1   25\n",
      "10  29.1   34\n",
      "11   2.2   14\n",
      "12   5.7   11\n",
      "13   2.0   11\n",
      "14   2.5   22\n",
      "15   4.0   16\n",
      "16   5.4   27\n",
      "17   2.2    9\n",
      "18   7.2   29\n",
      "19  15.1   30\n",
      "20  16.5   40\n",
      "21  18.4   32\n",
      "22  36.2   41\n",
      "23  39.7  147\n",
      "24  18.5   22\n",
      "25  23.3   29\n",
      "26  12.2   46\n",
      "27   5.6   23\n",
      "28  21.8    4\n",
      "29  21.6   31\n",
      "30   9.0   39\n",
      "31   3.6   15\n",
      "32   5.0   32\n",
      "33  28.6   27\n",
      "34  17.4   32\n",
      "35  11.3   34\n",
      "36   3.4   17\n",
      "37  11.9   46\n",
      "38  10.5   42\n",
      "39  10.7   43\n",
      "40  10.8   34\n",
      "41   4.8   19\n"
     ]
    }
   ],
   "source": [
    "data = pd.read_csv(\"fires_thefts.csv\", names=[\"x\", \"y\"])\n",
    "print(data)\n",
    "\n",
    "x = data[[\"x\"]].to_numpy().flatten()\n",
    "y = data[[\"y\"]].to_numpy().flatten()"
   ]
  },
  {
   "cell_type": "code",
   "execution_count": 6,
   "id": "cdb51061-a788-4af6-a47f-108f50395382",
   "metadata": {},
   "outputs": [],
   "source": [
    "# 𝜃"
   ]
  }
 ],
 "metadata": {
  "kernelspec": {
   "display_name": "Python 3 (ipykernel)",
   "language": "python",
   "name": "python3"
  },
  "language_info": {
   "codemirror_mode": {
    "name": "ipython",
    "version": 3
   },
   "file_extension": ".py",
   "mimetype": "text/x-python",
   "name": "python",
   "nbconvert_exporter": "python",
   "pygments_lexer": "ipython3",
   "version": "3.8.12"
  }
 },
 "nbformat": 4,
 "nbformat_minor": 5
}
