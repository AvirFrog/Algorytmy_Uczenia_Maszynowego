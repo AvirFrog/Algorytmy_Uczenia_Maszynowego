{
 "cells": [
  {
   "cell_type": "markdown",
   "id": "82f3321f-9552-43e1-a7ce-40393a4734ee",
   "metadata": {},
   "source": [
    "# Laboratorium 4 - Kacper Dudczak"
   ]
  },
  {
   "cell_type": "markdown",
   "id": "8ac11145-c6c2-4c9f-a649-b8701bdafa14",
   "metadata": {},
   "source": [
    "## Zadanie 4.1\n",
    "\n",
    "\n",
    "\n",
    "Dla różnych wartości długości kroku 𝛼∈{0.001,0.01,0.1} stwórz wykres, który zilustruje progresję wartości 𝐽(𝜃) dla pierwszych 200 króków algorytmu gradientu prostego:\n",
    "\n",
    "- Oś 𝑥 wykresu to kolejne kroki algorytmu – od 0 do 200.\n",
    "- Oś 𝑦 wykresu to wartosci 𝐽(𝜃).\n",
    "- Wykres powinien skłądać się z trzech krzywych:\n",
    "    - dla 𝛼=0.000001\n",
    "    - dla 𝛼=0.00001\n",
    "    - dla 𝛼=0.0001"
   ]
  },
  {
   "cell_type": "code",
   "execution_count": 3,
   "id": "e1ed0ada-5f1a-4a19-a5c1-441c41d29ebe",
   "metadata": {},
   "outputs": [],
   "source": [
    "import numpy as np\n",
    "import matplotlib\n",
    "import matplotlib.pyplot as plt\n",
    "import ipywidgets as widgets\n",
    "import pandas as pd\n",
    "\n",
    "%matplotlib inline\n",
    "%config InlineBackend.figure_format = \"svg\"\n",
    "\n",
    "from IPython.display import display, Math, Latex"
   ]
  },
  {
   "cell_type": "code",
   "execution_count": 5,
   "id": "681d5829-cee3-4c62-b378-1742f2046241",
   "metadata": {},
   "outputs": [
    {
     "name": "stdout",
     "output_type": "stream",
     "text": [
      "       x    y\n",
      "0    6.2   29\n",
      "1    9.5   44\n",
      "2   10.5   36\n",
      "3    7.7   37\n",
      "4    8.6   53\n",
      "5   34.1   68\n",
      "6   11.0   75\n",
      "7    6.9   18\n",
      "8    7.3   31\n",
      "9   15.1   25\n",
      "10  29.1   34\n",
      "11   2.2   14\n",
      "12   5.7   11\n",
      "13   2.0   11\n",
      "14   2.5   22\n",
      "15   4.0   16\n",
      "16   5.4   27\n",
      "17   2.2    9\n",
      "18   7.2   29\n",
      "19  15.1   30\n",
      "20  16.5   40\n",
      "21  18.4   32\n",
      "22  36.2   41\n",
      "23  39.7  147\n",
      "24  18.5   22\n",
      "25  23.3   29\n",
      "26  12.2   46\n",
      "27   5.6   23\n",
      "28  21.8    4\n",
      "29  21.6   31\n",
      "30   9.0   39\n",
      "31   3.6   15\n",
      "32   5.0   32\n",
      "33  28.6   27\n",
      "34  17.4   32\n",
      "35  11.3   34\n",
      "36   3.4   17\n",
      "37  11.9   46\n",
      "38  10.5   42\n",
      "39  10.7   43\n",
      "40  10.8   34\n",
      "41   4.8   19\n"
     ]
    }
   ],
   "source": [
    "data = pd.read_csv(\"fires_thefts.csv\", names=[\"x\", \"y\"])\n",
    "print(data)\n",
    "\n",
    "x = data[[\"x\"]].to_numpy().flatten()\n",
    "y = data[[\"y\"]].to_numpy().flatten()"
   ]
  },
  {
   "cell_type": "code",
   "execution_count": 10,
   "id": "158c4cfc-6454-4ee5-b392-e572860d98e1",
   "metadata": {},
   "outputs": [],
   "source": [
    "# Hipoteza: funkcja liniowa jednej zmiennej\n",
    "\n",
    "def h(theta, x):\n",
    "    return theta[0] + theta[1] * x"
   ]
  },
  {
   "cell_type": "code",
   "execution_count": 11,
   "id": "8592500d-c391-4ee3-b5fc-ca71720cda48",
   "metadata": {},
   "outputs": [],
   "source": [
    "def J(h, theta, x, y):\n",
    "    \"\"\"Funkcja kosztu\"\"\"\n",
    "    m = len(y)\n",
    "    return 1.0 / (2 * m) * sum((h(theta, x[i]) - y[i])**2 for i in range(m))"
   ]
  },
  {
   "cell_type": "code",
   "execution_count": 12,
   "id": "91d69454-0309-4c50-913c-3148bcd6770f",
   "metadata": {},
   "outputs": [],
   "source": [
    "def gradient_descent(h, cost_fun, theta, x, y, alpha, eps):\n",
    "    current_cost = cost_fun(h, theta, x, y)\n",
    "    log = [[current_cost, theta]]  # log przechowuje wartości kosztu i parametrów\n",
    "    m = len(y)\n",
    "    while True:\n",
    "        new_theta = [\n",
    "            theta[0] - alpha/float(m) * sum(h(theta, x[i]) - y[i]\n",
    "                                            for i in range(m)),   \n",
    "            theta[1] - alpha/float(m) * sum((h(theta, x[i]) - y[i]) * x[i]\n",
    "                                            for i in range(m))]\n",
    "        theta = new_theta  # jednoczesna aktualizacja - używamy zmiennej tymczasowej\n",
    "        prev_cost = current_cost\n",
    "        current_cost = cost_fun(h, theta, x, y)\n",
    "        if current_cost > prev_cost:\n",
    "            print(\"Zbyt duża długość kroku!\")\n",
    "            break\n",
    "        if abs(prev_cost - current_cost) <= eps:\n",
    "            break     \n",
    "        log.append([current_cost, theta])\n",
    "    return theta, log"
   ]
  },
  {
   "cell_type": "code",
   "execution_count": 27,
   "id": "78ba2a4d-74a6-4b20-be11-6b2e46e7e230",
   "metadata": {},
   "outputs": [],
   "source": [
    "# Wyświetlanie macierzy w LaTeX-u\n",
    "\n",
    "def LatexMatrix(matrix):\n",
    "    ltx = r'\\left[\\begin{array}'\n",
    "    m, n = matrix.shape\n",
    "    ltx += '{' + (\"r\" * n) + '}'\n",
    "    for i in range(m):\n",
    "        ltx += r\" & \".join([('%.4f' % j.item()) for j in matrix[i]]) + r\" \\\\ \"\n",
    "    ltx += r'\\end{array}\\right]'\n",
    "    return ltx"
   ]
  },
  {
   "cell_type": "code",
   "execution_count": null,
   "id": "9a4cf5b1-65a7-4903-96e8-7f08dc78ca4b",
   "metadata": {},
   "outputs": [],
   "source": [
    "alphas = [0.000001, 0.00001, 0.0001]\n",
    "\n",
    "fig = plt.figure(figsize=(16*.6, 9*.6))\n",
    "ax = fig.add_subplot(111)\n",
    "fig.subplots_adjust(left=0.1, right=0.9, bottom=0.1, top=0.9)\n",
    "ax.set_xlabel('krok')\n",
    "ax.set_ylabel(r'$J(\\theta)$')\n",
    "\n",
    "for alpha in alphas:\n",
    "    best_theta, logs = gradient_descent(h, J, [0.0, 0.0], x, y, alpha=alpha, eps=0.0001)\n",
    "\n",
    "\n",
    "    X = np.arange(0, 200, 1)\n",
    "    Y = [logs[step][0] for step in X]\n",
    "    ax.plot(X, Y, linewidth='2', label=(f' alfa ={alpha}'))\n",
    "fig.legend()\n"
   ]
  },
  {
   "cell_type": "markdown",
   "id": "2b160d75-b6f7-4ec4-baa8-6fe26c71e187",
   "metadata": {},
   "source": [
    "## Zadanie 4.2\n",
    "Podziel zbiór danych na dwie równe części. Pierwszą z nich wykorzystaj do trenowania, a drugą do ewaluacji. Oblicz MSE wytrenowanego modelu danych."
   ]
  }
 ],
 "metadata": {
  "kernelspec": {
   "display_name": "Python 3 (ipykernel)",
   "language": "python",
   "name": "python3"
  },
  "language_info": {
   "codemirror_mode": {
    "name": "ipython",
    "version": 3
   },
   "file_extension": ".py",
   "mimetype": "text/x-python",
   "name": "python",
   "nbconvert_exporter": "python",
   "pygments_lexer": "ipython3",
   "version": "3.8.12"
  }
 },
 "nbformat": 4,
 "nbformat_minor": 5
}
