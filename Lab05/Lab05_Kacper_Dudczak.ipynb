{
 "cells": [
  {
   "cell_type": "markdown",
   "id": "f8341b7e-5d0f-418d-85ae-a51705a8db6c",
   "metadata": {},
   "source": [
    "# Laboratorium 5 - Kacper Dudczak"
   ]
  },
  {
   "cell_type": "markdown",
   "id": "ff669895-5b03-43eb-a9a2-a106e8f2df68",
   "metadata": {
    "tags": []
   },
   "source": [
    "\n",
    "Plik gratkapl-centrenrm.csv zawiera dane wzbogacone o nową cechę Centre, przyjmującą wartość 1, jeżeli lokalizacja mieszkania to centrum, i 0 w przeciwnym przypadku.\n",
    "\n",
    "## 5. Zamiast przywidywania ceny mieszkania, spróbuj przewidzieć lokalizację mieszkania: centrum vs. nie-centrum za pomocą regresji logistcznej.\n",
    "\n",
    "- [X] Podziel dane trenujące na nowe dane treningowe (pierwsze 4/5 danych) i testowe (ostatnie 1/5 danych)\n",
    "- [X] Stwórz dwuklasowy model regresji logistycznej, korzystając z cech liczbowych Price,Rooms,SqrMeters,Floor. \n",
    "    - [X] Warto usunąć obserwacje odstające i dokonać normalizacji danych.\n",
    "- [ ] Podaj procent poprawnych wyników (tzw. skuteczność, accuracy) dla zestawu testowego.\n",
    "- [ ] Otrzymaną wartość porównaj z wynikiem uzyskiwanym przez klasyfikator losowy (czyli taki, który przyporządkowuje losową wartość 0 lub 1 z prawdopodobieństem 1/2).\n",
    "\n",
    "\n",
    "*Uwaga: Cecha Centre została wygenerowana automatycznie na podstawie opisów lokalizacji mieszkań i okazuje się, że jest słabo skorelowana z cechami liczbowymi, dlatego proszę się nie przejmować, jeżeli wartości funkcji regresji logistycznej i przewidywania modelu będą nieco dziwne.*"
   ]
  },
  {
   "cell_type": "code",
   "execution_count": 11,
   "id": "4db679a7-d0f3-4da7-b9a3-d1117528c2b0",
   "metadata": {},
   "outputs": [],
   "source": [
    "# Przydatne importy\n",
    "\n",
    "import numpy as np\n",
    "import matplotlib\n",
    "import matplotlib.pyplot as pl\n",
    "import pandas as pd\n",
    "import ipywidgets as widgets\n",
    "\n",
    "%matplotlib inline\n",
    "%config InlineBackend.figure_format = 'svg'\n",
    "\n",
    "from IPython.display import display, Math, Latex"
   ]
  },
  {
   "cell_type": "code",
   "execution_count": 25,
   "id": "62418c22-4faf-4dbe-bf08-05aaef19d3d9",
   "metadata": {},
   "outputs": [],
   "source": [
    "# Przydatne funkcje\n",
    "\n",
    "# Wyświetlanie macierzy w LaTeX-u\n",
    "def LatexMatrix(matrix):\n",
    "    ltx = r'\\left[\\begin{array}'\n",
    "    m, n = matrix.shape\n",
    "    ltx += '{' + (\"r\" * n) + '}'\n",
    "    for i in range(m):\n",
    "        ltx += r\" & \".join([('%.4f' % j.item()) for j in matrix[i]]) + r\" \\\\ \"\n",
    "    ltx += r'\\end{array}\\right]'\n",
    "    return ltx\n",
    "\n",
    "# Hipoteza (wersja macierzowa)\n",
    "def hMx(theta, X):\n",
    "    return X * theta\n",
    "\n",
    "# Wykres danych (wersja macierzowa)\n",
    "def regdotsMx(X, y, xlabel, ylabel):    \n",
    "    fig = pl.figure(figsize=(16*.6, 9*.6))\n",
    "    ax = fig.add_subplot(111)\n",
    "    fig.subplots_adjust(left=0.1, right=0.9, bottom=0.1, top=0.9)\n",
    "    ax.scatter([X[:, 1]], [y], c='r', s=50, label='Dane')\n",
    "    \n",
    "    ax.set_xlabel(xlabel)\n",
    "    ax.set_ylabel(ylabel)\n",
    "    ax.margins(.05, .05)\n",
    "    pl.ylim(y.min() - 1, y.max() + 1)\n",
    "    pl.xlim(np.min(X[:, 1]) - 1, np.max(X[:, 1]) + 1)\n",
    "    return fig\n",
    "\n",
    "# Wykres krzywej regresji (wersja macierzowa)\n",
    "def reglineMx(fig, fun, theta, X):\n",
    "    ax = fig.axes[0]\n",
    "    x0 = np.min(X[:, 1]) - 1.0\n",
    "    x1 = np.max(X[:, 1]) + 1.0\n",
    "    L = [x0, x1]\n",
    "    LX = np.matrix([1, x0, 1, x1]).reshape(2, 2)\n",
    "    ax.plot(L, fun(theta, LX), linewidth='2',\n",
    "            label=(r'$y={theta0:.2}{op}{theta1:.2}x$'.format(\n",
    "                theta0=float(theta[0][0]),\n",
    "                theta1=(float(theta[1][0]) if theta[1][0] >= 0 else float(-theta[1][0])),\n",
    "                op='+' if theta[1][0] >= 0 else '-')))\n",
    "\n",
    "# Legenda wykresu\n",
    "def legend(fig):\n",
    "    ax = fig.axes[0]\n",
    "    handles, labels = ax.get_legend_handles_labels()\n",
    "    # try-except block is a fix for a bug in Poly3DCollection\n",
    "    try:\n",
    "        fig.legend(handles, labels, fontsize='15', loc='lower right')\n",
    "    except AttributeError:\n",
    "        pass\n",
    "\n",
    "# Wersja macierzowa funkcji kosztu\n",
    "def JMx(theta,X,y):\n",
    "    m = len(y)\n",
    "    J = 1.0 / (2.0 * m) * ((X * theta - y).T * ( X * theta - y))\n",
    "    return J.item()\n",
    "\n",
    "# Wersja macierzowa gradientu funkcji kosztu\n",
    "def dJMx(theta,X,y):\n",
    "    return 1.0 / len(y) * (X.T * (X * theta - y)) \n",
    "\n",
    "# Implementacja algorytmu gradientu prostego za pomocą numpy i macierzy\n",
    "def GDMx(fJ, fdJ, theta, X, y, alpha=0.1, eps=10**-3):\n",
    "    current_cost = fJ(theta, X, y)\n",
    "    logs = [[current_cost, theta]]\n",
    "    while True:\n",
    "        theta = theta - alpha * fdJ(theta, X, y) # implementacja wzoru\n",
    "        current_cost, prev_cost = fJ(theta, X, y), current_cost\n",
    "        if current_cost > 10000:\n",
    "            break\n",
    "        if abs(prev_cost - current_cost) <= eps:\n",
    "            break\n",
    "        logs.append([current_cost, theta]) \n",
    "    return theta, logs\n",
    "\n",
    "thetaStartMx = np.matrix([0, 0]).reshape(2, 1)\n",
    "\n",
    "# Funkcja, która rysuje próg\n",
    "def threshold(fig, theta):\n",
    "    x_thr = (0.5 - theta.item(0)) / theta.item(1)\n",
    "    ax = fig.axes[0]\n",
    "    ax.plot([x_thr, x_thr], [-1, 2],\n",
    "            color='orange', linestyle='dashed',\n",
    "            label=u'próg: $x={:.2F}$'.format(x_thr))"
   ]
  },
  {
   "cell_type": "code",
   "execution_count": 31,
   "id": "72745cef-19e8-4f29-b81d-6605f169ad6a",
   "metadata": {},
   "outputs": [],
   "source": [
    "# Wczytanie danych\n",
    "\n",
    "data_gratka = pandas.read_csv('gratkapl-centrenrm.csv', usecols = [\"Price\", \"Rooms\", \"SqrMeters\", \"Floor\", \"Centre\"])"
   ]
  },
  {
   "cell_type": "code",
   "execution_count": 32,
   "id": "454bf664-089e-4268-829b-961a768e5cd7",
   "metadata": {},
   "outputs": [],
   "source": [
    "# Podzial tablicy na  5 czesci, 4 do trenowania i 1 do testowania\n",
    "\n",
    "split_array = np.array_split(data_gratka, 5)\n",
    "\n",
    "training_data = pd.concat(split_array[:4])\n",
    "\n",
    "test_data = split_array[4]"
   ]
  },
  {
   "cell_type": "code",
   "execution_count": 38,
   "id": "0ac1efdf-4f93-44df-bea9-1235ad06c10b",
   "metadata": {},
   "outputs": [
    {
     "name": "stdout",
     "output_type": "stream",
     "text": [
      "[[1.00000e+00 3.86064e+05 2.00000e+00 4.60000e+01 3.00000e+00]\n",
      " [1.00000e+00 2.80000e+05 2.00000e+00 4.10000e+01 5.00000e+00]\n",
      " [1.00000e+00 3.29000e+05 2.00000e+00 5.05000e+01 1.00000e+00]\n",
      " [1.00000e+00 2.25000e+05 2.00000e+00 4.30000e+01 1.00000e+01]\n",
      " [1.00000e+00 2.80000e+05 2.00000e+00 6.90000e+01 3.00000e+00]\n",
      " [1.00000e+00 2.73000e+05 3.00000e+00 7.90000e+01 1.40000e+01]]\n",
      "[[1.]\n",
      " [0.]\n",
      " [0.]\n",
      " [1.]\n",
      " [0.]\n",
      " [0.]]\n"
     ]
    }
   ],
   "source": [
    "# Przygotowanie danych\n",
    "\n",
    "m, n_plus_1 = training_data.values.shape\n",
    "n = n_plus_1 - 1\n",
    "Xn = training_data.values[:, 0:n].reshape(m, n)\n",
    "\n",
    "XMx4 = np.matrix(np.concatenate((np.ones((m, 1)), Xn), axis=1)).reshape(m, n_plus_1)\n",
    "yMx4 = np.matrix(training_data.values[:, n]).reshape(m, 1)\n",
    "\n",
    "print(XMx4[:6])\n",
    "print(yMx4[:6])"
   ]
  },
  {
   "cell_type": "code",
   "execution_count": 39,
   "id": "78e543c3-0dbf-4e0e-add8-47a76f11a5b6",
   "metadata": {},
   "outputs": [
    {
     "name": "stdout",
     "output_type": "stream",
     "text": [
      "[[1.0000e+00 6.9000e+05 2.0000e+00 1.2100e+02 1.0000e+00]\n",
      " [1.0000e+00 1.9755e+05 2.0000e+00 4.9400e+01 2.0000e+00]\n",
      " [1.0000e+00 3.3000e+05 4.0000e+00 7.4500e+01 1.0000e+00]\n",
      " [1.0000e+00 1.1400e+06 6.0000e+00 1.9240e+02 1.0000e+00]\n",
      " [1.0000e+00 1.9400e+05 1.0000e+00 3.6100e+01 1.0000e+00]\n",
      " [1.0000e+00 1.7200e+05 1.0000e+00 3.0000e+01 8.0000e+00]]\n",
      "[[1.]\n",
      " [1.]\n",
      " [0.]\n",
      " [0.]\n",
      " [0.]\n",
      " [0.]]\n"
     ]
    }
   ],
   "source": [
    "# Przygotowanie danych\n",
    "\n",
    "m2, n2_plus_1 = test_data.values.shape\n",
    "n2 = n2_plus_1 - 1\n",
    "Xn2 = test_data.values[:, 0:n2].reshape(m2, n2)\n",
    "\n",
    "XMx4_2 = np.matrix(np.concatenate((np.ones((m2, 1)), Xn2), axis=1)).reshape(m2, n2_plus_1)\n",
    "yMx4_2 = np.matrix(test_data.values[:, n2]).reshape(m2, 1)\n",
    "\n",
    "print(XMx4_2[:6])\n",
    "print(yMx4_2[:6])"
   ]
  },
  {
   "cell_type": "code",
   "execution_count": 40,
   "id": "43bcffeb-4b08-4237-98e7-c49482f96430",
   "metadata": {},
   "outputs": [],
   "source": [
    "# Funkcja, która pokazuje wartości minimalne i maksymalne w macierzy X\n",
    "\n",
    "def show_mins_and_maxs(XMx):\n",
    "    mins = np.amin(XMx, axis=0).tolist()[0]  # wartości minimalne\n",
    "    maxs = np.amax(XMx, axis=0).tolist()[0]  # wartości maksymalne\n",
    "    for i, (xmin, xmax) in enumerate(zip(mins, maxs)):\n",
    "        display(Math(\n",
    "            r'${:.2F} \\leq x_{} \\leq {:.2F}$'.format(xmin, i, xmax)))"
   ]
  },
  {
   "cell_type": "code",
   "execution_count": 48,
   "id": "dec13614-379b-4e15-b096-58d01d42bf94",
   "metadata": {},
   "outputs": [
    {
     "name": "stdout",
     "output_type": "stream",
     "text": [
      "Trening\n"
     ]
    },
    {
     "data": {
      "text/latex": [
       "$\\displaystyle 1.00 \\leq x_0 \\leq 1.00$"
      ],
      "text/plain": [
       "<IPython.core.display.Math object>"
      ]
     },
     "metadata": {},
     "output_type": "display_data"
    },
    {
     "data": {
      "text/latex": [
       "$\\displaystyle 1.00 \\leq x_1 \\leq 36378404.00$"
      ],
      "text/plain": [
       "<IPython.core.display.Math object>"
      ]
     },
     "metadata": {},
     "output_type": "display_data"
    },
    {
     "data": {
      "text/latex": [
       "$\\displaystyle 1.00 \\leq x_2 \\leq 6.00$"
      ],
      "text/plain": [
       "<IPython.core.display.Math object>"
      ]
     },
     "metadata": {},
     "output_type": "display_data"
    },
    {
     "data": {
      "text/latex": [
       "$\\displaystyle 14.37 \\leq x_3 \\leq 257.00$"
      ],
      "text/plain": [
       "<IPython.core.display.Math object>"
      ]
     },
     "metadata": {},
     "output_type": "display_data"
    },
    {
     "data": {
      "text/latex": [
       "$\\displaystyle 1.00 \\leq x_4 \\leq 16.00$"
      ],
      "text/plain": [
       "<IPython.core.display.Math object>"
      ]
     },
     "metadata": {},
     "output_type": "display_data"
    },
    {
     "name": "stdout",
     "output_type": "stream",
     "text": [
      "\n",
      "Test\n"
     ]
    },
    {
     "data": {
      "text/latex": [
       "$\\displaystyle 1.00 \\leq x_0 \\leq 1.00$"
      ],
      "text/plain": [
       "<IPython.core.display.Math object>"
      ]
     },
     "metadata": {},
     "output_type": "display_data"
    },
    {
     "data": {
      "text/latex": [
       "$\\displaystyle 68000.00 \\leq x_1 \\leq 1140000.00$"
      ],
      "text/plain": [
       "<IPython.core.display.Math object>"
      ]
     },
     "metadata": {},
     "output_type": "display_data"
    },
    {
     "data": {
      "text/latex": [
       "$\\displaystyle 1.00 \\leq x_2 \\leq 6.00$"
      ],
      "text/plain": [
       "<IPython.core.display.Math object>"
      ]
     },
     "metadata": {},
     "output_type": "display_data"
    },
    {
     "data": {
      "text/latex": [
       "$\\displaystyle 20.00 \\leq x_3 \\leq 192.40$"
      ],
      "text/plain": [
       "<IPython.core.display.Math object>"
      ]
     },
     "metadata": {},
     "output_type": "display_data"
    },
    {
     "data": {
      "text/latex": [
       "$\\displaystyle 1.00 \\leq x_4 \\leq 14.00$"
      ],
      "text/plain": [
       "<IPython.core.display.Math object>"
      ]
     },
     "metadata": {},
     "output_type": "display_data"
    }
   ],
   "source": [
    "print(\"Trening\")\n",
    "show_mins_and_maxs(XMx4)\n",
    "\n",
    "print(\"\\nTest\")\n",
    "show_mins_and_maxs(XMx4_2)"
   ]
  },
  {
   "cell_type": "code",
   "execution_count": 49,
   "id": "2da3a3a2-6be3-48ac-b7e7-0390acf18503",
   "metadata": {},
   "outputs": [
    {
     "name": "stdout",
     "output_type": "stream",
     "text": [
      "Trening\n"
     ]
    },
    {
     "data": {
      "text/latex": [
       "$\\displaystyle 1.00 \\leq x_0 \\leq 1.00$"
      ],
      "text/plain": [
       "<IPython.core.display.Math object>"
      ]
     },
     "metadata": {},
     "output_type": "display_data"
    },
    {
     "data": {
      "text/latex": [
       "$\\displaystyle 0.00 \\leq x_1 \\leq 1.00$"
      ],
      "text/plain": [
       "<IPython.core.display.Math object>"
      ]
     },
     "metadata": {},
     "output_type": "display_data"
    },
    {
     "data": {
      "text/latex": [
       "$\\displaystyle 0.17 \\leq x_2 \\leq 1.00$"
      ],
      "text/plain": [
       "<IPython.core.display.Math object>"
      ]
     },
     "metadata": {},
     "output_type": "display_data"
    },
    {
     "data": {
      "text/latex": [
       "$\\displaystyle 0.06 \\leq x_3 \\leq 1.00$"
      ],
      "text/plain": [
       "<IPython.core.display.Math object>"
      ]
     },
     "metadata": {},
     "output_type": "display_data"
    },
    {
     "data": {
      "text/latex": [
       "$\\displaystyle 0.06 \\leq x_4 \\leq 1.00$"
      ],
      "text/plain": [
       "<IPython.core.display.Math object>"
      ]
     },
     "metadata": {},
     "output_type": "display_data"
    },
    {
     "name": "stdout",
     "output_type": "stream",
     "text": [
      "\n",
      "Test\n"
     ]
    },
    {
     "data": {
      "text/latex": [
       "$\\displaystyle 1.00 \\leq x_0 \\leq 1.00$"
      ],
      "text/plain": [
       "<IPython.core.display.Math object>"
      ]
     },
     "metadata": {},
     "output_type": "display_data"
    },
    {
     "data": {
      "text/latex": [
       "$\\displaystyle 0.06 \\leq x_1 \\leq 1.00$"
      ],
      "text/plain": [
       "<IPython.core.display.Math object>"
      ]
     },
     "metadata": {},
     "output_type": "display_data"
    },
    {
     "data": {
      "text/latex": [
       "$\\displaystyle 0.17 \\leq x_2 \\leq 1.00$"
      ],
      "text/plain": [
       "<IPython.core.display.Math object>"
      ]
     },
     "metadata": {},
     "output_type": "display_data"
    },
    {
     "data": {
      "text/latex": [
       "$\\displaystyle 0.10 \\leq x_3 \\leq 1.00$"
      ],
      "text/plain": [
       "<IPython.core.display.Math object>"
      ]
     },
     "metadata": {},
     "output_type": "display_data"
    },
    {
     "data": {
      "text/latex": [
       "$\\displaystyle 0.07 \\leq x_4 \\leq 1.00$"
      ],
      "text/plain": [
       "<IPython.core.display.Math object>"
      ]
     },
     "metadata": {},
     "output_type": "display_data"
    }
   ],
   "source": [
    "print(\"Trening\")\n",
    "XMx4_scaled = XMx4 / np.amax(XMx4, axis=0)\n",
    "show_mins_and_maxs(XMx4_scaled)\n",
    "\n",
    "print(\"\\nTest\")\n",
    "XMx4_2_scaled = XMx4_2 / np.amax(XMx4_2, axis=0)\n",
    "show_mins_and_maxs(XMx4_2_scaled)"
   ]
  },
  {
   "cell_type": "code",
   "execution_count": 50,
   "id": "bb460dbc-1651-4fd6-8bb9-016eb2e74a99",
   "metadata": {},
   "outputs": [
    {
     "name": "stdout",
     "output_type": "stream",
     "text": [
      "Trening\n"
     ]
    },
    {
     "data": {
      "text/latex": [
       "$\\displaystyle 0.00 \\leq x_0 \\leq 0.00$"
      ],
      "text/plain": [
       "<IPython.core.display.Math object>"
      ]
     },
     "metadata": {},
     "output_type": "display_data"
    },
    {
     "data": {
      "text/latex": [
       "$\\displaystyle -0.01 \\leq x_1 \\leq 0.99$"
      ],
      "text/plain": [
       "<IPython.core.display.Math object>"
      ]
     },
     "metadata": {},
     "output_type": "display_data"
    },
    {
     "data": {
      "text/latex": [
       "$\\displaystyle -0.24 \\leq x_2 \\leq 0.59$"
      ],
      "text/plain": [
       "<IPython.core.display.Math object>"
      ]
     },
     "metadata": {},
     "output_type": "display_data"
    },
    {
     "data": {
      "text/latex": [
       "$\\displaystyle -0.17 \\leq x_3 \\leq 0.77$"
      ],
      "text/plain": [
       "<IPython.core.display.Math object>"
      ]
     },
     "metadata": {},
     "output_type": "display_data"
    },
    {
     "data": {
      "text/latex": [
       "$\\displaystyle -0.12 \\leq x_4 \\leq 0.82$"
      ],
      "text/plain": [
       "<IPython.core.display.Math object>"
      ]
     },
     "metadata": {},
     "output_type": "display_data"
    },
    {
     "name": "stdout",
     "output_type": "stream",
     "text": [
      "\n",
      "Test\n"
     ]
    },
    {
     "data": {
      "text/latex": [
       "$\\displaystyle 0.00 \\leq x_0 \\leq 0.00$"
      ],
      "text/plain": [
       "<IPython.core.display.Math object>"
      ]
     },
     "metadata": {},
     "output_type": "display_data"
    },
    {
     "data": {
      "text/latex": [
       "$\\displaystyle -0.21 \\leq x_1 \\leq 0.73$"
      ],
      "text/plain": [
       "<IPython.core.display.Math object>"
      ]
     },
     "metadata": {},
     "output_type": "display_data"
    },
    {
     "data": {
      "text/latex": [
       "$\\displaystyle -0.23 \\leq x_2 \\leq 0.60$"
      ],
      "text/plain": [
       "<IPython.core.display.Math object>"
      ]
     },
     "metadata": {},
     "output_type": "display_data"
    },
    {
     "data": {
      "text/latex": [
       "$\\displaystyle -0.19 \\leq x_3 \\leq 0.71$"
      ],
      "text/plain": [
       "<IPython.core.display.Math object>"
      ]
     },
     "metadata": {},
     "output_type": "display_data"
    },
    {
     "data": {
      "text/latex": [
       "$\\displaystyle -0.12 \\leq x_4 \\leq 0.80$"
      ],
      "text/plain": [
       "<IPython.core.display.Math object>"
      ]
     },
     "metadata": {},
     "output_type": "display_data"
    }
   ],
   "source": [
    "print(\"Trening\")\n",
    "XMx4_norm = (XMx4 - np.mean(XMx4, axis=0)) / np.amax(XMx4, axis=0)\n",
    "show_mins_and_maxs(XMx4_norm)\n",
    "\n",
    "print(\"\\nTest\")\n",
    "XMx4_2_norm = (XMx4_2 - np.mean(XMx4_2, axis=0)) / np.amax(XMx4_2, axis=0)\n",
    "show_mins_and_maxs(XMx4_2_norm)"
   ]
  },
  {
   "cell_type": "code",
   "execution_count": 51,
   "id": "2d9eee46-6124-4bc0-acb3-a10d4e311ae1",
   "metadata": {},
   "outputs": [],
   "source": [
    "def logistic(x):\n",
    "    return 1.0 / (1.0 + np.exp(-x))"
   ]
  },
  {
   "cell_type": "code",
   "execution_count": 52,
   "id": "5087c869-4a64-442d-a815-0b81fe7d181f",
   "metadata": {},
   "outputs": [],
   "source": [
    "import matplotlib.pyplot as plt\n",
    "def plot_logistic():\n",
    "    x = np.linspace(-5,5,200)\n",
    "    y = logistic(x)\n",
    "\n",
    "    fig = plt.figure(figsize=(7,5))\n",
    "    ax = fig.add_subplot(111)\n",
    "    plt.ylim(-.1,1.1)\n",
    "    ax.plot(x, y, linewidth='2')"
   ]
  },
  {
   "cell_type": "code",
   "execution_count": 53,
   "id": "f89889d9-b2fb-40d7-98d6-12f9b100cb06",
   "metadata": {},
   "outputs": [
    {
     "data": {
      "image/svg+xml": [
       "<?xml version=\"1.0\" encoding=\"utf-8\" standalone=\"no\"?>\n",
       "<!DOCTYPE svg PUBLIC \"-//W3C//DTD SVG 1.1//EN\"\n",
       "  \"http://www.w3.org/Graphics/SVG/1.1/DTD/svg11.dtd\">\n",
       "<svg xmlns:xlink=\"http://www.w3.org/1999/xlink\" width=\"427.903125pt\" height=\"302.878125pt\" viewBox=\"0 0 427.903125 302.878125\" xmlns=\"http://www.w3.org/2000/svg\" version=\"1.1\">\n",
       " <metadata>\n",
       "  <rdf:RDF xmlns:dc=\"http://purl.org/dc/elements/1.1/\" xmlns:cc=\"http://creativecommons.org/ns#\" xmlns:rdf=\"http://www.w3.org/1999/02/22-rdf-syntax-ns#\">\n",
       "   <cc:Work>\n",
       "    <dc:type rdf:resource=\"http://purl.org/dc/dcmitype/StillImage\"/>\n",
       "    <dc:date>2022-03-31T19:39:48.045634</dc:date>\n",
       "    <dc:format>image/svg+xml</dc:format>\n",
       "    <dc:creator>\n",
       "     <cc:Agent>\n",
       "      <dc:title>Matplotlib v3.5.1, https://matplotlib.org/</dc:title>\n",
       "     </cc:Agent>\n",
       "    </dc:creator>\n",
       "   </cc:Work>\n",
       "  </rdf:RDF>\n",
       " </metadata>\n",
       " <defs>\n",
       "  <style type=\"text/css\">*{stroke-linejoin: round; stroke-linecap: butt}</style>\n",
       " </defs>\n",
       " <g id=\"figure_1\">\n",
       "  <g id=\"patch_1\">\n",
       "   <path d=\"M 0 302.878125 \n",
       "L 427.903125 302.878125 \n",
       "L 427.903125 0 \n",
       "L 0 0 \n",
       "L 0 302.878125 \n",
       "z\n",
       "\" style=\"fill: none\"/>\n",
       "  </g>\n",
       "  <g id=\"axes_1\">\n",
       "   <g id=\"patch_2\">\n",
       "    <path d=\"M 30.103125 279 \n",
       "L 420.703125 279 \n",
       "L 420.703125 7.2 \n",
       "L 30.103125 7.2 \n",
       "z\n",
       "\" style=\"fill: #ffffff\"/>\n",
       "   </g>\n",
       "   <g id=\"matplotlib.axis_1\">\n",
       "    <g id=\"xtick_1\">\n",
       "     <g id=\"line2d_1\">\n",
       "      <defs>\n",
       "       <path id=\"m0ad2b52e2d\" d=\"M 0 0 \n",
       "L 0 3.5 \n",
       "\" style=\"stroke: #000000; stroke-width: 0.8\"/>\n",
       "      </defs>\n",
       "      <g>\n",
       "       <use xlink:href=\"#m0ad2b52e2d\" x=\"83.366761\" y=\"279\" style=\"stroke: #000000; stroke-width: 0.8\"/>\n",
       "      </g>\n",
       "     </g>\n",
       "     <g id=\"text_1\">\n",
       "      <!-- −4 -->\n",
       "      <g transform=\"translate(75.995668 293.598437)scale(0.1 -0.1)\">\n",
       "       <defs>\n",
       "        <path id=\"DejaVuSans-2212\" d=\"M 678 2272 \n",
       "L 4684 2272 \n",
       "L 4684 1741 \n",
       "L 678 1741 \n",
       "L 678 2272 \n",
       "z\n",
       "\" transform=\"scale(0.015625)\"/>\n",
       "        <path id=\"DejaVuSans-34\" d=\"M 2419 4116 \n",
       "L 825 1625 \n",
       "L 2419 1625 \n",
       "L 2419 4116 \n",
       "z\n",
       "M 2253 4666 \n",
       "L 3047 4666 \n",
       "L 3047 1625 \n",
       "L 3713 1625 \n",
       "L 3713 1100 \n",
       "L 3047 1100 \n",
       "L 3047 0 \n",
       "L 2419 0 \n",
       "L 2419 1100 \n",
       "L 313 1100 \n",
       "L 313 1709 \n",
       "L 2253 4666 \n",
       "z\n",
       "\" transform=\"scale(0.015625)\"/>\n",
       "       </defs>\n",
       "       <use xlink:href=\"#DejaVuSans-2212\"/>\n",
       "       <use xlink:href=\"#DejaVuSans-34\" x=\"83.789062\"/>\n",
       "      </g>\n",
       "     </g>\n",
       "    </g>\n",
       "    <g id=\"xtick_2\">\n",
       "     <g id=\"line2d_2\">\n",
       "      <g>\n",
       "       <use xlink:href=\"#m0ad2b52e2d\" x=\"154.384943\" y=\"279\" style=\"stroke: #000000; stroke-width: 0.8\"/>\n",
       "      </g>\n",
       "     </g>\n",
       "     <g id=\"text_2\">\n",
       "      <!-- −2 -->\n",
       "      <g transform=\"translate(147.013849 293.598437)scale(0.1 -0.1)\">\n",
       "       <defs>\n",
       "        <path id=\"DejaVuSans-32\" d=\"M 1228 531 \n",
       "L 3431 531 \n",
       "L 3431 0 \n",
       "L 469 0 \n",
       "L 469 531 \n",
       "Q 828 903 1448 1529 \n",
       "Q 2069 2156 2228 2338 \n",
       "Q 2531 2678 2651 2914 \n",
       "Q 2772 3150 2772 3378 \n",
       "Q 2772 3750 2511 3984 \n",
       "Q 2250 4219 1831 4219 \n",
       "Q 1534 4219 1204 4116 \n",
       "Q 875 4013 500 3803 \n",
       "L 500 4441 \n",
       "Q 881 4594 1212 4672 \n",
       "Q 1544 4750 1819 4750 \n",
       "Q 2544 4750 2975 4387 \n",
       "Q 3406 4025 3406 3419 \n",
       "Q 3406 3131 3298 2873 \n",
       "Q 3191 2616 2906 2266 \n",
       "Q 2828 2175 2409 1742 \n",
       "Q 1991 1309 1228 531 \n",
       "z\n",
       "\" transform=\"scale(0.015625)\"/>\n",
       "       </defs>\n",
       "       <use xlink:href=\"#DejaVuSans-2212\"/>\n",
       "       <use xlink:href=\"#DejaVuSans-32\" x=\"83.789062\"/>\n",
       "      </g>\n",
       "     </g>\n",
       "    </g>\n",
       "    <g id=\"xtick_3\">\n",
       "     <g id=\"line2d_3\">\n",
       "      <g>\n",
       "       <use xlink:href=\"#m0ad2b52e2d\" x=\"225.403125\" y=\"279\" style=\"stroke: #000000; stroke-width: 0.8\"/>\n",
       "      </g>\n",
       "     </g>\n",
       "     <g id=\"text_3\">\n",
       "      <!-- 0 -->\n",
       "      <g transform=\"translate(222.221875 293.598437)scale(0.1 -0.1)\">\n",
       "       <defs>\n",
       "        <path id=\"DejaVuSans-30\" d=\"M 2034 4250 \n",
       "Q 1547 4250 1301 3770 \n",
       "Q 1056 3291 1056 2328 \n",
       "Q 1056 1369 1301 889 \n",
       "Q 1547 409 2034 409 \n",
       "Q 2525 409 2770 889 \n",
       "Q 3016 1369 3016 2328 \n",
       "Q 3016 3291 2770 3770 \n",
       "Q 2525 4250 2034 4250 \n",
       "z\n",
       "M 2034 4750 \n",
       "Q 2819 4750 3233 4129 \n",
       "Q 3647 3509 3647 2328 \n",
       "Q 3647 1150 3233 529 \n",
       "Q 2819 -91 2034 -91 \n",
       "Q 1250 -91 836 529 \n",
       "Q 422 1150 422 2328 \n",
       "Q 422 3509 836 4129 \n",
       "Q 1250 4750 2034 4750 \n",
       "z\n",
       "\" transform=\"scale(0.015625)\"/>\n",
       "       </defs>\n",
       "       <use xlink:href=\"#DejaVuSans-30\"/>\n",
       "      </g>\n",
       "     </g>\n",
       "    </g>\n",
       "    <g id=\"xtick_4\">\n",
       "     <g id=\"line2d_4\">\n",
       "      <g>\n",
       "       <use xlink:href=\"#m0ad2b52e2d\" x=\"296.421307\" y=\"279\" style=\"stroke: #000000; stroke-width: 0.8\"/>\n",
       "      </g>\n",
       "     </g>\n",
       "     <g id=\"text_4\">\n",
       "      <!-- 2 -->\n",
       "      <g transform=\"translate(293.240057 293.598437)scale(0.1 -0.1)\">\n",
       "       <use xlink:href=\"#DejaVuSans-32\"/>\n",
       "      </g>\n",
       "     </g>\n",
       "    </g>\n",
       "    <g id=\"xtick_5\">\n",
       "     <g id=\"line2d_5\">\n",
       "      <g>\n",
       "       <use xlink:href=\"#m0ad2b52e2d\" x=\"367.439489\" y=\"279\" style=\"stroke: #000000; stroke-width: 0.8\"/>\n",
       "      </g>\n",
       "     </g>\n",
       "     <g id=\"text_5\">\n",
       "      <!-- 4 -->\n",
       "      <g transform=\"translate(364.258239 293.598437)scale(0.1 -0.1)\">\n",
       "       <use xlink:href=\"#DejaVuSans-34\"/>\n",
       "      </g>\n",
       "     </g>\n",
       "    </g>\n",
       "   </g>\n",
       "   <g id=\"matplotlib.axis_2\">\n",
       "    <g id=\"ytick_1\">\n",
       "     <g id=\"line2d_6\">\n",
       "      <defs>\n",
       "       <path id=\"m573bad57fd\" d=\"M 0 0 \n",
       "L -3.5 0 \n",
       "\" style=\"stroke: #000000; stroke-width: 0.8\"/>\n",
       "      </defs>\n",
       "      <g>\n",
       "       <use xlink:href=\"#m573bad57fd\" x=\"30.103125\" y=\"256.35\" style=\"stroke: #000000; stroke-width: 0.8\"/>\n",
       "      </g>\n",
       "     </g>\n",
       "     <g id=\"text_6\">\n",
       "      <!-- 0.0 -->\n",
       "      <g transform=\"translate(7.2 260.149219)scale(0.1 -0.1)\">\n",
       "       <defs>\n",
       "        <path id=\"DejaVuSans-2e\" d=\"M 684 794 \n",
       "L 1344 794 \n",
       "L 1344 0 \n",
       "L 684 0 \n",
       "L 684 794 \n",
       "z\n",
       "\" transform=\"scale(0.015625)\"/>\n",
       "       </defs>\n",
       "       <use xlink:href=\"#DejaVuSans-30\"/>\n",
       "       <use xlink:href=\"#DejaVuSans-2e\" x=\"63.623047\"/>\n",
       "       <use xlink:href=\"#DejaVuSans-30\" x=\"95.410156\"/>\n",
       "      </g>\n",
       "     </g>\n",
       "    </g>\n",
       "    <g id=\"ytick_2\">\n",
       "     <g id=\"line2d_7\">\n",
       "      <g>\n",
       "       <use xlink:href=\"#m573bad57fd\" x=\"30.103125\" y=\"211.05\" style=\"stroke: #000000; stroke-width: 0.8\"/>\n",
       "      </g>\n",
       "     </g>\n",
       "     <g id=\"text_7\">\n",
       "      <!-- 0.2 -->\n",
       "      <g transform=\"translate(7.2 214.849219)scale(0.1 -0.1)\">\n",
       "       <use xlink:href=\"#DejaVuSans-30\"/>\n",
       "       <use xlink:href=\"#DejaVuSans-2e\" x=\"63.623047\"/>\n",
       "       <use xlink:href=\"#DejaVuSans-32\" x=\"95.410156\"/>\n",
       "      </g>\n",
       "     </g>\n",
       "    </g>\n",
       "    <g id=\"ytick_3\">\n",
       "     <g id=\"line2d_8\">\n",
       "      <g>\n",
       "       <use xlink:href=\"#m573bad57fd\" x=\"30.103125\" y=\"165.75\" style=\"stroke: #000000; stroke-width: 0.8\"/>\n",
       "      </g>\n",
       "     </g>\n",
       "     <g id=\"text_8\">\n",
       "      <!-- 0.4 -->\n",
       "      <g transform=\"translate(7.2 169.549219)scale(0.1 -0.1)\">\n",
       "       <use xlink:href=\"#DejaVuSans-30\"/>\n",
       "       <use xlink:href=\"#DejaVuSans-2e\" x=\"63.623047\"/>\n",
       "       <use xlink:href=\"#DejaVuSans-34\" x=\"95.410156\"/>\n",
       "      </g>\n",
       "     </g>\n",
       "    </g>\n",
       "    <g id=\"ytick_4\">\n",
       "     <g id=\"line2d_9\">\n",
       "      <g>\n",
       "       <use xlink:href=\"#m573bad57fd\" x=\"30.103125\" y=\"120.45\" style=\"stroke: #000000; stroke-width: 0.8\"/>\n",
       "      </g>\n",
       "     </g>\n",
       "     <g id=\"text_9\">\n",
       "      <!-- 0.6 -->\n",
       "      <g transform=\"translate(7.2 124.249219)scale(0.1 -0.1)\">\n",
       "       <defs>\n",
       "        <path id=\"DejaVuSans-36\" d=\"M 2113 2584 \n",
       "Q 1688 2584 1439 2293 \n",
       "Q 1191 2003 1191 1497 \n",
       "Q 1191 994 1439 701 \n",
       "Q 1688 409 2113 409 \n",
       "Q 2538 409 2786 701 \n",
       "Q 3034 994 3034 1497 \n",
       "Q 3034 2003 2786 2293 \n",
       "Q 2538 2584 2113 2584 \n",
       "z\n",
       "M 3366 4563 \n",
       "L 3366 3988 \n",
       "Q 3128 4100 2886 4159 \n",
       "Q 2644 4219 2406 4219 \n",
       "Q 1781 4219 1451 3797 \n",
       "Q 1122 3375 1075 2522 \n",
       "Q 1259 2794 1537 2939 \n",
       "Q 1816 3084 2150 3084 \n",
       "Q 2853 3084 3261 2657 \n",
       "Q 3669 2231 3669 1497 \n",
       "Q 3669 778 3244 343 \n",
       "Q 2819 -91 2113 -91 \n",
       "Q 1303 -91 875 529 \n",
       "Q 447 1150 447 2328 \n",
       "Q 447 3434 972 4092 \n",
       "Q 1497 4750 2381 4750 \n",
       "Q 2619 4750 2861 4703 \n",
       "Q 3103 4656 3366 4563 \n",
       "z\n",
       "\" transform=\"scale(0.015625)\"/>\n",
       "       </defs>\n",
       "       <use xlink:href=\"#DejaVuSans-30\"/>\n",
       "       <use xlink:href=\"#DejaVuSans-2e\" x=\"63.623047\"/>\n",
       "       <use xlink:href=\"#DejaVuSans-36\" x=\"95.410156\"/>\n",
       "      </g>\n",
       "     </g>\n",
       "    </g>\n",
       "    <g id=\"ytick_5\">\n",
       "     <g id=\"line2d_10\">\n",
       "      <g>\n",
       "       <use xlink:href=\"#m573bad57fd\" x=\"30.103125\" y=\"75.15\" style=\"stroke: #000000; stroke-width: 0.8\"/>\n",
       "      </g>\n",
       "     </g>\n",
       "     <g id=\"text_10\">\n",
       "      <!-- 0.8 -->\n",
       "      <g transform=\"translate(7.2 78.949219)scale(0.1 -0.1)\">\n",
       "       <defs>\n",
       "        <path id=\"DejaVuSans-38\" d=\"M 2034 2216 \n",
       "Q 1584 2216 1326 1975 \n",
       "Q 1069 1734 1069 1313 \n",
       "Q 1069 891 1326 650 \n",
       "Q 1584 409 2034 409 \n",
       "Q 2484 409 2743 651 \n",
       "Q 3003 894 3003 1313 \n",
       "Q 3003 1734 2745 1975 \n",
       "Q 2488 2216 2034 2216 \n",
       "z\n",
       "M 1403 2484 \n",
       "Q 997 2584 770 2862 \n",
       "Q 544 3141 544 3541 \n",
       "Q 544 4100 942 4425 \n",
       "Q 1341 4750 2034 4750 \n",
       "Q 2731 4750 3128 4425 \n",
       "Q 3525 4100 3525 3541 \n",
       "Q 3525 3141 3298 2862 \n",
       "Q 3072 2584 2669 2484 \n",
       "Q 3125 2378 3379 2068 \n",
       "Q 3634 1759 3634 1313 \n",
       "Q 3634 634 3220 271 \n",
       "Q 2806 -91 2034 -91 \n",
       "Q 1263 -91 848 271 \n",
       "Q 434 634 434 1313 \n",
       "Q 434 1759 690 2068 \n",
       "Q 947 2378 1403 2484 \n",
       "z\n",
       "M 1172 3481 \n",
       "Q 1172 3119 1398 2916 \n",
       "Q 1625 2713 2034 2713 \n",
       "Q 2441 2713 2670 2916 \n",
       "Q 2900 3119 2900 3481 \n",
       "Q 2900 3844 2670 4047 \n",
       "Q 2441 4250 2034 4250 \n",
       "Q 1625 4250 1398 4047 \n",
       "Q 1172 3844 1172 3481 \n",
       "z\n",
       "\" transform=\"scale(0.015625)\"/>\n",
       "       </defs>\n",
       "       <use xlink:href=\"#DejaVuSans-30\"/>\n",
       "       <use xlink:href=\"#DejaVuSans-2e\" x=\"63.623047\"/>\n",
       "       <use xlink:href=\"#DejaVuSans-38\" x=\"95.410156\"/>\n",
       "      </g>\n",
       "     </g>\n",
       "    </g>\n",
       "    <g id=\"ytick_6\">\n",
       "     <g id=\"line2d_11\">\n",
       "      <g>\n",
       "       <use xlink:href=\"#m573bad57fd\" x=\"30.103125\" y=\"29.85\" style=\"stroke: #000000; stroke-width: 0.8\"/>\n",
       "      </g>\n",
       "     </g>\n",
       "     <g id=\"text_11\">\n",
       "      <!-- 1.0 -->\n",
       "      <g transform=\"translate(7.2 33.649219)scale(0.1 -0.1)\">\n",
       "       <defs>\n",
       "        <path id=\"DejaVuSans-31\" d=\"M 794 531 \n",
       "L 1825 531 \n",
       "L 1825 4091 \n",
       "L 703 3866 \n",
       "L 703 4441 \n",
       "L 1819 4666 \n",
       "L 2450 4666 \n",
       "L 2450 531 \n",
       "L 3481 531 \n",
       "L 3481 0 \n",
       "L 794 0 \n",
       "L 794 531 \n",
       "z\n",
       "\" transform=\"scale(0.015625)\"/>\n",
       "       </defs>\n",
       "       <use xlink:href=\"#DejaVuSans-31\"/>\n",
       "       <use xlink:href=\"#DejaVuSans-2e\" x=\"63.623047\"/>\n",
       "       <use xlink:href=\"#DejaVuSans-30\" x=\"95.410156\"/>\n",
       "      </g>\n",
       "     </g>\n",
       "    </g>\n",
       "   </g>\n",
       "   <g id=\"line2d_12\">\n",
       "    <path d=\"M 47.85767 254.834069 \n",
       "L 60.348305 254.201068 \n",
       "L 71.054564 253.454536 \n",
       "L 79.976446 252.64102 \n",
       "L 88.898328 251.603789 \n",
       "L 96.035834 250.574081 \n",
       "L 103.17334 249.328049 \n",
       "L 110.310845 247.823594 \n",
       "L 115.663975 246.496613 \n",
       "L 121.017104 244.973889 \n",
       "L 126.370233 243.230098 \n",
       "L 131.723363 241.237785 \n",
       "L 137.076492 238.967578 \n",
       "L 142.429621 236.388536 \n",
       "L 147.78275 233.46871 \n",
       "L 153.13588 230.175916 \n",
       "L 156.704633 227.757951 \n",
       "L 160.273385 225.151402 \n",
       "L 163.842138 222.348056 \n",
       "L 167.410891 219.340549 \n",
       "L 170.979644 216.122616 \n",
       "L 174.548397 212.689355 \n",
       "L 178.11715 209.037503 \n",
       "L 181.685903 205.165711 \n",
       "L 187.039032 198.948117 \n",
       "L 192.392161 192.251387 \n",
       "L 197.74529 185.102567 \n",
       "L 203.09842 177.543346 \n",
       "L 208.451549 169.630092 \n",
       "L 215.589055 158.651259 \n",
       "L 226.295313 141.677336 \n",
       "L 237.001572 124.767101 \n",
       "L 244.139077 113.896882 \n",
       "L 249.492207 106.094497 \n",
       "L 254.845336 98.666528 \n",
       "L 260.198465 91.664506 \n",
       "L 265.551595 85.125188 \n",
       "L 270.904724 79.070899 \n",
       "L 274.473477 75.309115 \n",
       "L 278.04223 71.766853 \n",
       "L 281.610982 68.441773 \n",
       "L 285.179735 65.329757 \n",
       "L 288.748488 62.425189 \n",
       "L 292.317241 59.72122 \n",
       "L 295.885994 57.210033 \n",
       "L 299.454747 54.883078 \n",
       "L 304.807876 51.718157 \n",
       "L 310.161005 48.915509 \n",
       "L 315.514135 46.442926 \n",
       "L 320.867264 44.26872 \n",
       "L 326.220393 42.362423 \n",
       "L 331.573522 40.695269 \n",
       "L 336.926652 39.240498 \n",
       "L 342.279781 37.973518 \n",
       "L 349.417287 36.53797 \n",
       "L 356.554792 35.349717 \n",
       "L 363.692298 34.368241 \n",
       "L 372.61418 33.380037 \n",
       "L 381.536062 32.605285 \n",
       "L 392.242321 31.894564 \n",
       "L 402.94858 31.365931 \n",
       "L 402.94858 31.365931 \n",
       "\" clip-path=\"url(#p96fbdfd44b)\" style=\"fill: none; stroke: #1f77b4; stroke-width: 2; stroke-linecap: square\"/>\n",
       "   </g>\n",
       "   <g id=\"patch_3\">\n",
       "    <path d=\"M 30.103125 279 \n",
       "L 30.103125 7.2 \n",
       "\" style=\"fill: none; stroke: #000000; stroke-width: 0.8; stroke-linejoin: miter; stroke-linecap: square\"/>\n",
       "   </g>\n",
       "   <g id=\"patch_4\">\n",
       "    <path d=\"M 420.703125 279 \n",
       "L 420.703125 7.2 \n",
       "\" style=\"fill: none; stroke: #000000; stroke-width: 0.8; stroke-linejoin: miter; stroke-linecap: square\"/>\n",
       "   </g>\n",
       "   <g id=\"patch_5\">\n",
       "    <path d=\"M 30.103125 279 \n",
       "L 420.703125 279 \n",
       "\" style=\"fill: none; stroke: #000000; stroke-width: 0.8; stroke-linejoin: miter; stroke-linecap: square\"/>\n",
       "   </g>\n",
       "   <g id=\"patch_6\">\n",
       "    <path d=\"M 30.103125 7.2 \n",
       "L 420.703125 7.2 \n",
       "\" style=\"fill: none; stroke: #000000; stroke-width: 0.8; stroke-linejoin: miter; stroke-linecap: square\"/>\n",
       "   </g>\n",
       "  </g>\n",
       " </g>\n",
       " <defs>\n",
       "  <clipPath id=\"p96fbdfd44b\">\n",
       "   <rect x=\"30.103125\" y=\"7.2\" width=\"390.6\" height=\"271.8\"/>\n",
       "  </clipPath>\n",
       " </defs>\n",
       "</svg>\n"
      ],
      "text/plain": [
       "<Figure size 504x360 with 1 Axes>"
      ]
     },
     "metadata": {
      "needs_background": "light"
     },
     "output_type": "display_data"
    }
   ],
   "source": [
    "plot_logistic()"
   ]
  },
  {
   "cell_type": "code",
   "execution_count": 54,
   "id": "f271ef7d-5dd7-4b48-999a-71ae6042e2fc",
   "metadata": {},
   "outputs": [],
   "source": [
    "# Funkcja regresji logistcznej\n",
    "def h(theta, X):\n",
    "    return 1.0/(1.0 + np.exp(-X * theta))"
   ]
  },
  {
   "cell_type": "code",
   "execution_count": 55,
   "id": "347fd54c-d7be-4aaa-8119-8c6361d79df1",
   "metadata": {},
   "outputs": [],
   "source": [
    "# Funkcja kosztu dla regresji logistycznej\n",
    "def J(h, theta, X, y):\n",
    "    m = len(y)\n",
    "    h_val = h(theta, X)\n",
    "    s1 = np.multiply(y, np.log(h_val))\n",
    "    s2 = np.multiply((1 - y), np.log(1 - h_val))\n",
    "    return -np.sum(s1 + s2, axis=0) / m"
   ]
  },
  {
   "cell_type": "code",
   "execution_count": 56,
   "id": "00094df4-602f-4471-99c7-fad2777d81eb",
   "metadata": {},
   "outputs": [],
   "source": [
    "# Gradient dla regresji logistycznej\n",
    "def dJ(h, theta, X, y):\n",
    "    return 1.0 / len(y) * (X.T * (h(theta, X) - y))"
   ]
  },
  {
   "cell_type": "code",
   "execution_count": 57,
   "id": "f525ad16-4c66-46a6-a680-4dcba6b8f1c3",
   "metadata": {},
   "outputs": [],
   "source": [
    "# Metoda gradientu prostego dla regresji logistycznej\n",
    "def GD(h, fJ, fdJ, theta, X, y, alpha=0.01, eps=10**-3, maxSteps=10000):\n",
    "    errorCurr = fJ(h, theta, X, y)\n",
    "    errors = [[errorCurr, theta]]\n",
    "    while True:\n",
    "        # oblicz nowe theta\n",
    "        theta = theta - alpha * fdJ(h, theta, X, y)\n",
    "        # raportuj poziom błędu\n",
    "        errorCurr, errorPrev = fJ(h, theta, X, y), errorCurr\n",
    "        # kryteria stopu\n",
    "        if abs(errorPrev - errorCurr) <= eps:\n",
    "            break\n",
    "        if len(errors) > maxSteps:\n",
    "            break\n",
    "        errors.append([errorCurr, theta]) \n",
    "    return theta, errors"
   ]
  },
  {
   "cell_type": "markdown",
   "id": "a8061a2e-a3a0-49b9-a868-4a2ce3045d2a",
   "metadata": {},
   "source": [
    "**TO DO WYRZUCENIA NIZEJ CHYBA**"
   ]
  },
  {
   "cell_type": "code",
   "execution_count": 62,
   "id": "125daabc-b71e-4f15-9fb0-6306a8f0d9f3",
   "metadata": {},
   "outputs": [],
   "source": [
    "thetaStartMx = np.matrix([0, 0]).reshape(2, 1) #TO KONKRETNIE DO WYRZUCENIA"
   ]
  },
  {
   "cell_type": "code",
   "execution_count": 61,
   "id": "1ba51d6a-d429-4a66-abfa-3f62e312e89a",
   "metadata": {},
   "outputs": [
    {
     "ename": "ValueError",
     "evalue": "shapes (1615,5) and (2,1) not aligned: 5 (dim 1) != 2 (dim 0)",
     "output_type": "error",
     "traceback": [
      "\u001b[1;31m---------------------------------------------------------------------------\u001b[0m",
      "\u001b[1;31mValueError\u001b[0m                                Traceback (most recent call last)",
      "Input \u001b[1;32mIn [61]\u001b[0m, in \u001b[0;36m<cell line: 2>\u001b[1;34m()\u001b[0m\n\u001b[0;32m      1\u001b[0m \u001b[38;5;66;03m# Uruchomienie metody gradientu prostego dla regresji logistycznej\u001b[39;00m\n\u001b[1;32m----> 2\u001b[0m thetaBest, errors \u001b[38;5;241m=\u001b[39m \u001b[43mGD\u001b[49m\u001b[43m(\u001b[49m\u001b[43mh\u001b[49m\u001b[43m,\u001b[49m\u001b[43m \u001b[49m\u001b[43mJ\u001b[49m\u001b[43m,\u001b[49m\u001b[43m \u001b[49m\u001b[43mdJ\u001b[49m\u001b[43m,\u001b[49m\u001b[43m \u001b[49m\u001b[43mthetaStartMx\u001b[49m\u001b[43m,\u001b[49m\u001b[43m \u001b[49m\u001b[43mXMx4\u001b[49m\u001b[43m,\u001b[49m\u001b[43m \u001b[49m\u001b[43myMx4\u001b[49m\u001b[43m,\u001b[49m\u001b[43m \u001b[49m\n\u001b[0;32m      3\u001b[0m \u001b[43m                       \u001b[49m\u001b[43malpha\u001b[49m\u001b[38;5;241;43m=\u001b[39;49m\u001b[38;5;241;43m0.1\u001b[39;49m\u001b[43m,\u001b[49m\u001b[43m \u001b[49m\u001b[43meps\u001b[49m\u001b[38;5;241;43m=\u001b[39;49m\u001b[38;5;241;43m10\u001b[39;49m\u001b[38;5;241;43m*\u001b[39;49m\u001b[38;5;241;43m*\u001b[39;49m\u001b[38;5;241;43m-\u001b[39;49m\u001b[38;5;241;43m7\u001b[39;49m\u001b[43m,\u001b[49m\u001b[43m \u001b[49m\u001b[43mmaxSteps\u001b[49m\u001b[38;5;241;43m=\u001b[39;49m\u001b[38;5;241;43m1000\u001b[39;49m\u001b[43m)\u001b[49m\n\u001b[0;32m      4\u001b[0m \u001b[38;5;28mprint\u001b[39m(\u001b[38;5;124m\"\u001b[39m\u001b[38;5;124merror =\u001b[39m\u001b[38;5;124m\"\u001b[39m, errors[\u001b[38;5;241m-\u001b[39m\u001b[38;5;241m1\u001b[39m][\u001b[38;5;241m0\u001b[39m])\n\u001b[0;32m      5\u001b[0m \u001b[38;5;28mprint\u001b[39m(\u001b[38;5;124m\"\u001b[39m\u001b[38;5;124mtheta =\u001b[39m\u001b[38;5;124m\"\u001b[39m, thetaBest)\n",
      "Input \u001b[1;32mIn [57]\u001b[0m, in \u001b[0;36mGD\u001b[1;34m(h, fJ, fdJ, theta, X, y, alpha, eps, maxSteps)\u001b[0m\n\u001b[0;32m      2\u001b[0m \u001b[38;5;28;01mdef\u001b[39;00m \u001b[38;5;21mGD\u001b[39m(h, fJ, fdJ, theta, X, y, alpha\u001b[38;5;241m=\u001b[39m\u001b[38;5;241m0.01\u001b[39m, eps\u001b[38;5;241m=\u001b[39m\u001b[38;5;241m10\u001b[39m\u001b[38;5;241m*\u001b[39m\u001b[38;5;241m*\u001b[39m\u001b[38;5;241m-\u001b[39m\u001b[38;5;241m3\u001b[39m, maxSteps\u001b[38;5;241m=\u001b[39m\u001b[38;5;241m10000\u001b[39m):\n\u001b[1;32m----> 3\u001b[0m     errorCurr \u001b[38;5;241m=\u001b[39m \u001b[43mfJ\u001b[49m\u001b[43m(\u001b[49m\u001b[43mh\u001b[49m\u001b[43m,\u001b[49m\u001b[43m \u001b[49m\u001b[43mtheta\u001b[49m\u001b[43m,\u001b[49m\u001b[43m \u001b[49m\u001b[43mX\u001b[49m\u001b[43m,\u001b[49m\u001b[43m \u001b[49m\u001b[43my\u001b[49m\u001b[43m)\u001b[49m\n\u001b[0;32m      4\u001b[0m     errors \u001b[38;5;241m=\u001b[39m [[errorCurr, theta]]\n\u001b[0;32m      5\u001b[0m     \u001b[38;5;28;01mwhile\u001b[39;00m \u001b[38;5;28;01mTrue\u001b[39;00m:\n\u001b[0;32m      6\u001b[0m         \u001b[38;5;66;03m# oblicz nowe theta\u001b[39;00m\n",
      "Input \u001b[1;32mIn [55]\u001b[0m, in \u001b[0;36mJ\u001b[1;34m(h, theta, X, y)\u001b[0m\n\u001b[0;32m      2\u001b[0m \u001b[38;5;28;01mdef\u001b[39;00m \u001b[38;5;21mJ\u001b[39m(h, theta, X, y):\n\u001b[0;32m      3\u001b[0m     m \u001b[38;5;241m=\u001b[39m \u001b[38;5;28mlen\u001b[39m(y)\n\u001b[1;32m----> 4\u001b[0m     h_val \u001b[38;5;241m=\u001b[39m \u001b[43mh\u001b[49m\u001b[43m(\u001b[49m\u001b[43mtheta\u001b[49m\u001b[43m,\u001b[49m\u001b[43m \u001b[49m\u001b[43mX\u001b[49m\u001b[43m)\u001b[49m\n\u001b[0;32m      5\u001b[0m     s1 \u001b[38;5;241m=\u001b[39m np\u001b[38;5;241m.\u001b[39mmultiply(y, np\u001b[38;5;241m.\u001b[39mlog(h_val))\n\u001b[0;32m      6\u001b[0m     s2 \u001b[38;5;241m=\u001b[39m np\u001b[38;5;241m.\u001b[39mmultiply((\u001b[38;5;241m1\u001b[39m \u001b[38;5;241m-\u001b[39m y), np\u001b[38;5;241m.\u001b[39mlog(\u001b[38;5;241m1\u001b[39m \u001b[38;5;241m-\u001b[39m h_val))\n",
      "Input \u001b[1;32mIn [54]\u001b[0m, in \u001b[0;36mh\u001b[1;34m(theta, X)\u001b[0m\n\u001b[0;32m      2\u001b[0m \u001b[38;5;28;01mdef\u001b[39;00m \u001b[38;5;21mh\u001b[39m(theta, X):\n\u001b[1;32m----> 3\u001b[0m     \u001b[38;5;28;01mreturn\u001b[39;00m \u001b[38;5;241m1.0\u001b[39m\u001b[38;5;241m/\u001b[39m(\u001b[38;5;241m1.0\u001b[39m \u001b[38;5;241m+\u001b[39m np\u001b[38;5;241m.\u001b[39mexp(\u001b[38;5;241;43m-\u001b[39;49m\u001b[43mX\u001b[49m\u001b[43m \u001b[49m\u001b[38;5;241;43m*\u001b[39;49m\u001b[43m \u001b[49m\u001b[43mtheta\u001b[49m))\n",
      "File \u001b[1;32m~\\anaconda3\\lib\\site-packages\\numpy\\matrixlib\\defmatrix.py:218\u001b[0m, in \u001b[0;36mmatrix.__mul__\u001b[1;34m(self, other)\u001b[0m\n\u001b[0;32m    215\u001b[0m \u001b[38;5;28;01mdef\u001b[39;00m \u001b[38;5;21m__mul__\u001b[39m(\u001b[38;5;28mself\u001b[39m, other):\n\u001b[0;32m    216\u001b[0m     \u001b[38;5;28;01mif\u001b[39;00m \u001b[38;5;28misinstance\u001b[39m(other, (N\u001b[38;5;241m.\u001b[39mndarray, \u001b[38;5;28mlist\u001b[39m, \u001b[38;5;28mtuple\u001b[39m)) :\n\u001b[0;32m    217\u001b[0m         \u001b[38;5;66;03m# This promotes 1-D vectors to row vectors\u001b[39;00m\n\u001b[1;32m--> 218\u001b[0m         \u001b[38;5;28;01mreturn\u001b[39;00m \u001b[43mN\u001b[49m\u001b[38;5;241;43m.\u001b[39;49m\u001b[43mdot\u001b[49m\u001b[43m(\u001b[49m\u001b[38;5;28;43mself\u001b[39;49m\u001b[43m,\u001b[49m\u001b[43m \u001b[49m\u001b[43masmatrix\u001b[49m\u001b[43m(\u001b[49m\u001b[43mother\u001b[49m\u001b[43m)\u001b[49m\u001b[43m)\u001b[49m\n\u001b[0;32m    219\u001b[0m     \u001b[38;5;28;01mif\u001b[39;00m isscalar(other) \u001b[38;5;129;01mor\u001b[39;00m \u001b[38;5;129;01mnot\u001b[39;00m \u001b[38;5;28mhasattr\u001b[39m(other, \u001b[38;5;124m'\u001b[39m\u001b[38;5;124m__rmul__\u001b[39m\u001b[38;5;124m'\u001b[39m) :\n\u001b[0;32m    220\u001b[0m         \u001b[38;5;28;01mreturn\u001b[39;00m N\u001b[38;5;241m.\u001b[39mdot(\u001b[38;5;28mself\u001b[39m, other)\n",
      "File \u001b[1;32m<__array_function__ internals>:5\u001b[0m, in \u001b[0;36mdot\u001b[1;34m(*args, **kwargs)\u001b[0m\n",
      "\u001b[1;31mValueError\u001b[0m: shapes (1615,5) and (2,1) not aligned: 5 (dim 1) != 2 (dim 0)"
     ]
    }
   ],
   "source": [
    "# Uruchomienie metody gradientu prostego dla regresji logistycznej\n",
    "thetaBest, errors = GD(h, J, dJ, thetaStartMx, XMx4, yMx4, \n",
    "                       alpha=0.1, eps=10**-7, maxSteps=1000)\n",
    "print(\"error =\", errors[-1][0])\n",
    "print(\"theta =\", thetaBest)"
   ]
  }
 ],
 "metadata": {
  "kernelspec": {
   "display_name": "Python 3 (ipykernel)",
   "language": "python",
   "name": "python3"
  },
  "language_info": {
   "codemirror_mode": {
    "name": "ipython",
    "version": 3
   },
   "file_extension": ".py",
   "mimetype": "text/x-python",
   "name": "python",
   "nbconvert_exporter": "python",
   "pygments_lexer": "ipython3",
   "version": "3.8.13"
  }
 },
 "nbformat": 4,
 "nbformat_minor": 5
}
