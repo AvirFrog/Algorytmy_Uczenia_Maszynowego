{
 "cells": [
  {
   "cell_type": "markdown",
   "id": "f8341b7e-5d0f-418d-85ae-a51705a8db6c",
   "metadata": {},
   "source": [
    "# Laboratorium 5 - Kacper Dudczak"
   ]
  },
  {
   "cell_type": "markdown",
   "id": "ff669895-5b03-43eb-a9a2-a106e8f2df68",
   "metadata": {
    "tags": []
   },
   "source": [
    "\n",
    "Plik gratkapl-centrenrm.csv zawiera dane wzbogacone o nową cechę Centre, przyjmującą wartość 1, jeżeli lokalizacja mieszkania to centrum, i 0 w przeciwnym przypadku.\n",
    "\n",
    "## 5. Zamiast przywidywania ceny mieszkania, spróbuj przewidzieć lokalizację mieszkania: centrum vs. nie-centrum za pomocą regresji logistcznej.\n",
    "\n",
    "- [X] Podziel dane trenujące na nowe dane treningowe (pierwsze 4/5 danych) i testowe (ostatnie 1/5 danych)\n",
    "- [X] Stwórz dwuklasowy model regresji logistycznej, korzystając z cech liczbowych Price,Rooms,SqrMeters,Floor. \n",
    "    - [X] Warto usunąć obserwacje odstające i dokonać normalizacji danych.\n",
    "- [ ] Podaj procent poprawnych wyników (tzw. skuteczność, accuracy) dla zestawu testowego.\n",
    "- [ ] Otrzymaną wartość porównaj z wynikiem uzyskiwanym przez klasyfikator losowy (czyli taki, który przyporządkowuje losową wartość 0 lub 1 z prawdopodobieństem 1/2).\n",
    "\n",
    "\n",
    "*Uwaga: Cecha Centre została wygenerowana automatycznie na podstawie opisów lokalizacji mieszkań i okazuje się, że jest słabo skorelowana z cechami liczbowymi, dlatego proszę się nie przejmować, jeżeli wartości funkcji regresji logistycznej i przewidywania modelu będą nieco dziwne.*"
   ]
  },
  {
   "cell_type": "code",
   "execution_count": 19,
   "id": "4db679a7-d0f3-4da7-b9a3-d1117528c2b0",
   "metadata": {},
   "outputs": [],
   "source": [
    "# Przydatne importy\n",
    "\n",
    "import numpy as np\n",
    "import matplotlib\n",
    "import matplotlib.pyplot as pl\n",
    "import pandas as pd\n",
    "import ipywidgets as widgets\n",
    "\n",
    "%matplotlib inline\n",
    "%config InlineBackend.figure_format = 'svg'\n",
    "\n",
    "from IPython.display import display, Math, Latex"
   ]
  },
  {
   "cell_type": "code",
   "execution_count": 20,
   "id": "62418c22-4faf-4dbe-bf08-05aaef19d3d9",
   "metadata": {},
   "outputs": [],
   "source": [
    "# Przydatne funkcje\n",
    "\n",
    "# Wyświetlanie macierzy w LaTeX-u\n",
    "def LatexMatrix(matrix):\n",
    "    ltx = r'\\left[\\begin{array}'\n",
    "    m, n = matrix.shape\n",
    "    ltx += '{' + (\"r\" * n) + '}'\n",
    "    for i in range(m):\n",
    "        ltx += r\" & \".join([('%.4f' % j.item()) for j in matrix[i]]) + r\" \\\\ \"\n",
    "    ltx += r'\\end{array}\\right]'\n",
    "    return ltx\n",
    "\n",
    "# Hipoteza (wersja macierzowa)\n",
    "def hMx(theta, X):\n",
    "    return X * theta\n",
    "\n",
    "# Wykres danych (wersja macierzowa)\n",
    "def regdotsMx(X, y, xlabel, ylabel):    \n",
    "    fig = pl.figure(figsize=(16*.6, 9*.6))\n",
    "    ax = fig.add_subplot(111)\n",
    "    fig.subplots_adjust(left=0.1, right=0.9, bottom=0.1, top=0.9)\n",
    "    ax.scatter([X[:, 1]], [y], c='r', s=50, label='Dane')\n",
    "    \n",
    "    ax.set_xlabel(xlabel)\n",
    "    ax.set_ylabel(ylabel)\n",
    "    ax.margins(.05, .05)\n",
    "    pl.ylim(y.min() - 1, y.max() + 1)\n",
    "    pl.xlim(np.min(X[:, 1]) - 1, np.max(X[:, 1]) + 1)\n",
    "    return fig\n",
    "\n",
    "# Wykres krzywej regresji (wersja macierzowa)\n",
    "def reglineMx(fig, fun, theta, X):\n",
    "    ax = fig.axes[0]\n",
    "    x0 = np.min(X[:, 1]) - 1.0\n",
    "    x1 = np.max(X[:, 1]) + 1.0\n",
    "    L = [x0, x1]\n",
    "    LX = np.matrix([1, x0, 1, x1]).reshape(2, 2)\n",
    "    ax.plot(L, fun(theta, LX), linewidth='2',\n",
    "            label=(r'$y={theta0:.2}{op}{theta1:.2}x$'.format(\n",
    "                theta0=float(theta[0][0]),\n",
    "                theta1=(float(theta[1][0]) if theta[1][0] >= 0 else float(-theta[1][0])),\n",
    "                op='+' if theta[1][0] >= 0 else '-')))\n",
    "\n",
    "# Legenda wykresu\n",
    "def legend(fig):\n",
    "    ax = fig.axes[0]\n",
    "    handles, labels = ax.get_legend_handles_labels()\n",
    "    # try-except block is a fix for a bug in Poly3DCollection\n",
    "    try:\n",
    "        fig.legend(handles, labels, fontsize='15', loc='lower right')\n",
    "    except AttributeError:\n",
    "        pass\n",
    "\n",
    "# Wersja macierzowa funkcji kosztu\n",
    "def JMx(theta,X,y):\n",
    "    m = len(y)\n",
    "    J = 1.0 / (2.0 * m) * ((X * theta - y).T * ( X * theta - y))\n",
    "    return J.item()\n",
    "\n",
    "# Wersja macierzowa gradientu funkcji kosztu\n",
    "def dJMx(theta,X,y):\n",
    "    return 1.0 / len(y) * (X.T * (X * theta - y)) \n",
    "\n",
    "# Implementacja algorytmu gradientu prostego za pomocą numpy i macierzy\n",
    "def GDMx(fJ, fdJ, theta, X, y, alpha=0.1, eps=10**-3):\n",
    "    current_cost = fJ(theta, X, y)\n",
    "    logs = [[current_cost, theta]]\n",
    "    while True:\n",
    "        theta = theta - alpha * fdJ(theta, X, y) # implementacja wzoru\n",
    "        current_cost, prev_cost = fJ(theta, X, y), current_cost\n",
    "        if current_cost > 10000:\n",
    "            break\n",
    "        if abs(prev_cost - current_cost) <= eps:\n",
    "            break\n",
    "        logs.append([current_cost, theta]) \n",
    "    return theta, logs\n",
    "\n",
    "thetaStartMx = np.matrix([0, 0]).reshape(2, 1)\n",
    "\n",
    "# Funkcja, która rysuje próg\n",
    "def threshold(fig, theta):\n",
    "    x_thr = (0.5 - theta.item(0)) / theta.item(1)\n",
    "    ax = fig.axes[0]\n",
    "    ax.plot([x_thr, x_thr], [-1, 2],\n",
    "            color='orange', linestyle='dashed',\n",
    "            label=u'próg: $x={:.2F}$'.format(x_thr))"
   ]
  },
  {
   "cell_type": "code",
   "execution_count": 21,
   "id": "72745cef-19e8-4f29-b81d-6605f169ad6a",
   "metadata": {},
   "outputs": [],
   "source": [
    "# Wczytanie danych\n",
    "\n",
    "data_gratka = pd.read_csv('gratkapl-centrenrm.csv', usecols = [\"Price\", \"Rooms\", \"SqrMeters\", \"Floor\", \"Centre\"])"
   ]
  },
  {
   "cell_type": "code",
   "execution_count": 22,
   "id": "454bf664-089e-4268-829b-961a768e5cd7",
   "metadata": {},
   "outputs": [],
   "source": [
    "# Podzial tablicy na  5 czesci, 4 do trenowania i 1 do testowania\n",
    "\n",
    "split_array = np.array_split(data_gratka, 5)\n",
    "\n",
    "training_data = pd.concat(split_array[:4])\n",
    "\n",
    "test_data = split_array[4]\n"
   ]
  },
  {
   "cell_type": "code",
   "execution_count": 23,
   "id": "0ac1efdf-4f93-44df-bea9-1235ad06c10b",
   "metadata": {},
   "outputs": [
    {
     "name": "stdout",
     "output_type": "stream",
     "text": [
      "[[1.00000e+00 3.86064e+05 2.00000e+00 4.60000e+01 3.00000e+00]\n",
      " [1.00000e+00 2.80000e+05 2.00000e+00 4.10000e+01 5.00000e+00]\n",
      " [1.00000e+00 3.29000e+05 2.00000e+00 5.05000e+01 1.00000e+00]\n",
      " [1.00000e+00 2.25000e+05 2.00000e+00 4.30000e+01 1.00000e+01]\n",
      " [1.00000e+00 2.80000e+05 2.00000e+00 6.90000e+01 3.00000e+00]\n",
      " [1.00000e+00 2.73000e+05 3.00000e+00 7.90000e+01 1.40000e+01]]\n",
      "[[1.]\n",
      " [0.]\n",
      " [0.]\n",
      " [1.]\n",
      " [0.]\n",
      " [0.]]\n"
     ]
    }
   ],
   "source": [
    "# Przygotowanie danych\n",
    "\n",
    "m, n_plus_1 = training_data.values.shape\n",
    "n = n_plus_1 - 1\n",
    "Xn = training_data.values[:, 0:n].reshape(m, n)\n",
    "\n",
    "XMx4 = np.matrix(np.concatenate((np.ones((m, 1)), Xn), axis=1)).reshape(m, n_plus_1)\n",
    "yMx4 = np.matrix(training_data.values[:, n]).reshape(m, 1)\n",
    "\n",
    "print(XMx4[:6])\n",
    "print(yMx4[:6])"
   ]
  },
  {
   "cell_type": "code",
   "execution_count": 24,
   "id": "78e543c3-0dbf-4e0e-add8-47a76f11a5b6",
   "metadata": {},
   "outputs": [
    {
     "name": "stdout",
     "output_type": "stream",
     "text": [
      "[[1.0000e+00 6.9000e+05 2.0000e+00 1.2100e+02 1.0000e+00]\n",
      " [1.0000e+00 1.9755e+05 2.0000e+00 4.9400e+01 2.0000e+00]\n",
      " [1.0000e+00 3.3000e+05 4.0000e+00 7.4500e+01 1.0000e+00]\n",
      " [1.0000e+00 1.1400e+06 6.0000e+00 1.9240e+02 1.0000e+00]\n",
      " [1.0000e+00 1.9400e+05 1.0000e+00 3.6100e+01 1.0000e+00]\n",
      " [1.0000e+00 1.7200e+05 1.0000e+00 3.0000e+01 8.0000e+00]]\n",
      "[[1.]\n",
      " [1.]\n",
      " [0.]\n",
      " [0.]\n",
      " [0.]\n",
      " [0.]]\n"
     ]
    }
   ],
   "source": [
    "# Przygotowanie danych\n",
    "\n",
    "m2, n2_plus_1 = test_data.values.shape\n",
    "n2 = n2_plus_1 - 1\n",
    "Xn2 = test_data.values[:, 0:n2].reshape(m2, n2)\n",
    "\n",
    "XMx4_2 = np.matrix(np.concatenate((np.ones((m2, 1)), Xn2), axis=1)).reshape(m2, n2_plus_1)\n",
    "yMx4_2 = np.matrix(test_data.values[:, n2]).reshape(m2, 1)\n",
    "\n",
    "print(XMx4_2[:6])\n",
    "print(yMx4_2[:6])"
   ]
  },
  {
   "cell_type": "code",
   "execution_count": 25,
   "id": "43bcffeb-4b08-4237-98e7-c49482f96430",
   "metadata": {},
   "outputs": [],
   "source": [
    "# Funkcja, która pokazuje wartości minimalne i maksymalne w macierzy X\n",
    "\n",
    "def show_mins_and_maxs(XMx):\n",
    "    mins = np.amin(XMx, axis=0).tolist()[0]  # wartości minimalne\n",
    "    maxs = np.amax(XMx, axis=0).tolist()[0]  # wartości maksymalne\n",
    "    for i, (xmin, xmax) in enumerate(zip(mins, maxs)):\n",
    "        display(Math(\n",
    "            r'${:.2F} \\leq x_{} \\leq {:.2F}$'.format(xmin, i, xmax)))"
   ]
  },
  {
   "cell_type": "code",
   "execution_count": 26,
   "id": "dec13614-379b-4e15-b096-58d01d42bf94",
   "metadata": {},
   "outputs": [
    {
     "name": "stdout",
     "output_type": "stream",
     "text": [
      "Trening\n"
     ]
    },
    {
     "data": {
      "text/latex": [
       "$\\displaystyle 1.00 \\leq x_0 \\leq 1.00$"
      ],
      "text/plain": [
       "<IPython.core.display.Math object>"
      ]
     },
     "metadata": {},
     "output_type": "display_data"
    },
    {
     "data": {
      "text/latex": [
       "$\\displaystyle 1.00 \\leq x_1 \\leq 36378404.00$"
      ],
      "text/plain": [
       "<IPython.core.display.Math object>"
      ]
     },
     "metadata": {},
     "output_type": "display_data"
    },
    {
     "data": {
      "text/latex": [
       "$\\displaystyle 1.00 \\leq x_2 \\leq 6.00$"
      ],
      "text/plain": [
       "<IPython.core.display.Math object>"
      ]
     },
     "metadata": {},
     "output_type": "display_data"
    },
    {
     "data": {
      "text/latex": [
       "$\\displaystyle 14.37 \\leq x_3 \\leq 257.00$"
      ],
      "text/plain": [
       "<IPython.core.display.Math object>"
      ]
     },
     "metadata": {},
     "output_type": "display_data"
    },
    {
     "data": {
      "text/latex": [
       "$\\displaystyle 1.00 \\leq x_4 \\leq 16.00$"
      ],
      "text/plain": [
       "<IPython.core.display.Math object>"
      ]
     },
     "metadata": {},
     "output_type": "display_data"
    },
    {
     "name": "stdout",
     "output_type": "stream",
     "text": [
      "\n",
      "Test\n"
     ]
    },
    {
     "data": {
      "text/latex": [
       "$\\displaystyle 1.00 \\leq x_0 \\leq 1.00$"
      ],
      "text/plain": [
       "<IPython.core.display.Math object>"
      ]
     },
     "metadata": {},
     "output_type": "display_data"
    },
    {
     "data": {
      "text/latex": [
       "$\\displaystyle 68000.00 \\leq x_1 \\leq 1140000.00$"
      ],
      "text/plain": [
       "<IPython.core.display.Math object>"
      ]
     },
     "metadata": {},
     "output_type": "display_data"
    },
    {
     "data": {
      "text/latex": [
       "$\\displaystyle 1.00 \\leq x_2 \\leq 6.00$"
      ],
      "text/plain": [
       "<IPython.core.display.Math object>"
      ]
     },
     "metadata": {},
     "output_type": "display_data"
    },
    {
     "data": {
      "text/latex": [
       "$\\displaystyle 20.00 \\leq x_3 \\leq 192.40$"
      ],
      "text/plain": [
       "<IPython.core.display.Math object>"
      ]
     },
     "metadata": {},
     "output_type": "display_data"
    },
    {
     "data": {
      "text/latex": [
       "$\\displaystyle 1.00 \\leq x_4 \\leq 14.00$"
      ],
      "text/plain": [
       "<IPython.core.display.Math object>"
      ]
     },
     "metadata": {},
     "output_type": "display_data"
    }
   ],
   "source": [
    "print(\"Trening\")\n",
    "show_mins_and_maxs(XMx4)\n",
    "\n",
    "print(\"\\nTest\")\n",
    "show_mins_and_maxs(XMx4_2)"
   ]
  },
  {
   "cell_type": "code",
   "execution_count": 27,
   "id": "bb460dbc-1651-4fd6-8bb9-016eb2e74a99",
   "metadata": {},
   "outputs": [
    {
     "name": "stdout",
     "output_type": "stream",
     "text": [
      "Trening\n"
     ]
    },
    {
     "data": {
      "text/latex": [
       "$\\displaystyle 0.00 \\leq x_0 \\leq 0.00$"
      ],
      "text/plain": [
       "<IPython.core.display.Math object>"
      ]
     },
     "metadata": {},
     "output_type": "display_data"
    },
    {
     "data": {
      "text/latex": [
       "$\\displaystyle -0.01 \\leq x_1 \\leq 0.99$"
      ],
      "text/plain": [
       "<IPython.core.display.Math object>"
      ]
     },
     "metadata": {},
     "output_type": "display_data"
    },
    {
     "data": {
      "text/latex": [
       "$\\displaystyle -0.24 \\leq x_2 \\leq 0.59$"
      ],
      "text/plain": [
       "<IPython.core.display.Math object>"
      ]
     },
     "metadata": {},
     "output_type": "display_data"
    },
    {
     "data": {
      "text/latex": [
       "$\\displaystyle -0.17 \\leq x_3 \\leq 0.77$"
      ],
      "text/plain": [
       "<IPython.core.display.Math object>"
      ]
     },
     "metadata": {},
     "output_type": "display_data"
    },
    {
     "data": {
      "text/latex": [
       "$\\displaystyle -0.12 \\leq x_4 \\leq 0.82$"
      ],
      "text/plain": [
       "<IPython.core.display.Math object>"
      ]
     },
     "metadata": {},
     "output_type": "display_data"
    },
    {
     "name": "stdout",
     "output_type": "stream",
     "text": [
      "\n",
      "Test\n"
     ]
    },
    {
     "data": {
      "text/latex": [
       "$\\displaystyle 0.00 \\leq x_0 \\leq 0.00$"
      ],
      "text/plain": [
       "<IPython.core.display.Math object>"
      ]
     },
     "metadata": {},
     "output_type": "display_data"
    },
    {
     "data": {
      "text/latex": [
       "$\\displaystyle -0.21 \\leq x_1 \\leq 0.73$"
      ],
      "text/plain": [
       "<IPython.core.display.Math object>"
      ]
     },
     "metadata": {},
     "output_type": "display_data"
    },
    {
     "data": {
      "text/latex": [
       "$\\displaystyle -0.23 \\leq x_2 \\leq 0.60$"
      ],
      "text/plain": [
       "<IPython.core.display.Math object>"
      ]
     },
     "metadata": {},
     "output_type": "display_data"
    },
    {
     "data": {
      "text/latex": [
       "$\\displaystyle -0.19 \\leq x_3 \\leq 0.71$"
      ],
      "text/plain": [
       "<IPython.core.display.Math object>"
      ]
     },
     "metadata": {},
     "output_type": "display_data"
    },
    {
     "data": {
      "text/latex": [
       "$\\displaystyle -0.12 \\leq x_4 \\leq 0.80$"
      ],
      "text/plain": [
       "<IPython.core.display.Math object>"
      ]
     },
     "metadata": {},
     "output_type": "display_data"
    }
   ],
   "source": [
    "print(\"Trening\")\n",
    "XMx4_norm = (XMx4 - np.mean(XMx4, axis=0)) / np.amax(XMx4, axis=0)\n",
    "show_mins_and_maxs(XMx4_norm)\n",
    "\n",
    "print(\"\\nTest\")\n",
    "XMx4_2_norm = (XMx4_2 - np.mean(XMx4_2, axis=0)) / np.amax(XMx4_2, axis=0)\n",
    "show_mins_and_maxs(XMx4_2_norm)"
   ]
  },
  {
   "cell_type": "code",
   "execution_count": 28,
   "id": "f271ef7d-5dd7-4b48-999a-71ae6042e2fc",
   "metadata": {},
   "outputs": [],
   "source": [
    "# Funkcja regresji logistcznej\n",
    "def h(theta, X):\n",
    "    return 1.0/(1.0 + np.exp(-X * theta))"
   ]
  },
  {
   "cell_type": "code",
   "execution_count": 29,
   "id": "347fd54c-d7be-4aaa-8119-8c6361d79df1",
   "metadata": {},
   "outputs": [],
   "source": [
    "# Funkcja kosztu dla regresji logistycznej\n",
    "def J(h, theta, X, y):\n",
    "    m = len(y)\n",
    "    h_val = h(theta, X)\n",
    "    s1 = np.multiply(y, np.log(h_val))\n",
    "    s2 = np.multiply((1 - y), np.log(1 - h_val))\n",
    "    return -np.sum(s1 + s2, axis=0) / m"
   ]
  },
  {
   "cell_type": "code",
   "execution_count": 30,
   "id": "00094df4-602f-4471-99c7-fad2777d81eb",
   "metadata": {},
   "outputs": [],
   "source": [
    "# Gradient dla regresji logistycznej\n",
    "def dJ(h, theta, X, y):\n",
    "    return 1.0 / len(y) * (X.T * (h(theta, X) - y))"
   ]
  },
  {
   "cell_type": "code",
   "execution_count": 31,
   "id": "f525ad16-4c66-46a6-a680-4dcba6b8f1c3",
   "metadata": {},
   "outputs": [],
   "source": [
    "# Metoda gradientu prostego dla regresji logistycznej\n",
    "def GD(h, fJ, fdJ, theta, X, y, alpha=0.01, eps=10**-3, maxSteps=10000):\n",
    "    errorCurr = fJ(h, theta, X, y)\n",
    "    errors = [[errorCurr, theta]]\n",
    "    while True:\n",
    "        # oblicz nowe theta\n",
    "        theta = theta - alpha * fdJ(h, theta, X, y)\n",
    "        # raportuj poziom błędu\n",
    "        errorCurr, errorPrev = fJ(h, theta, X, y), errorCurr\n",
    "        # kryteria stopu\n",
    "        if abs(errorPrev - errorCurr) <= eps:\n",
    "            break\n",
    "        if len(errors) > maxSteps:\n",
    "            break\n",
    "        errors.append([errorCurr, theta]) \n",
    "    return theta, errors"
   ]
  },
  {
   "cell_type": "code",
   "execution_count": 32,
   "id": "125daabc-b71e-4f15-9fb0-6306a8f0d9f3",
   "metadata": {},
   "outputs": [],
   "source": [
    "thetaStartMx = np.ones(5).reshape(5,1)"
   ]
  },
  {
   "cell_type": "code",
   "execution_count": 33,
   "id": "1ba51d6a-d429-4a66-abfa-3f62e312e89a",
   "metadata": {},
   "outputs": [
    {
     "name": "stdout",
     "output_type": "stream",
     "text": [
      "error = [[0.69195052]]\n",
      "theta = [[1.        ]\n",
      " [0.93331417]\n",
      " [0.18175774]\n",
      " [1.10451816]\n",
      " [0.48075158]]\n"
     ]
    }
   ],
   "source": [
    "# Uruchomienie metody gradientu prostego dla regresji logistycznej\n",
    "thetaBest, errors = GD(h, J, dJ, thetaStartMx, XMx4_norm, yMx4, \n",
    "                       alpha=0.1, eps=10**-7, maxSteps=1000)\n",
    "print(\"error =\", errors[-1][0])\n",
    "print(\"theta =\", thetaBest)"
   ]
  },
  {
   "cell_type": "code",
   "execution_count": 34,
   "id": "24370b0c-b631-4858-907e-7d8b2688ca0f",
   "metadata": {},
   "outputs": [
    {
     "name": "stdout",
     "output_type": "stream",
     "text": [
      "theta = [[1.        ]\n",
      " [0.93331417]\n",
      " [0.18175774]\n",
      " [1.10451816]\n",
      " [0.48075158]]\n",
      "x0 = [[ 0.          0.33618676 -0.0624483   0.33779618 -0.12371499]]\n",
      "h(x0) = 0.6493181112131284\n",
      "c(x0) = (1, 0.6493181112131284) \n",
      "\n"
     ]
    }
   ],
   "source": [
    "def classifyBi(theta, X):\n",
    "    prob = h(theta, X).item()\n",
    "    return (1, prob) if prob > 0.5 else (0, prob)\n",
    "\n",
    "print(\"theta =\", thetaBest)\n",
    "print(\"x0 =\", XMx4_2_norm[0])\n",
    "print(\"h(x0) =\", h(thetaBest, XMx4_2_norm[0]).item())\n",
    "print(\"c(x0) =\", classifyBi(thetaBest, XMx4_2_norm[0]), \"\\n\")"
   ]
  },
  {
   "cell_type": "code",
   "execution_count": 101,
   "id": "2eac4eb3-24df-46d4-8bf1-98e7569d3a20",
   "metadata": {},
   "outputs": [
    {
     "name": "stdout",
     "output_type": "stream",
     "text": [
      "1 <=> 1 -- prob: 0.6493\n",
      "1 <=> 0 -- prob: 0.4591\n",
      "0 <=> 1 -- prob: 0.5287\n",
      "0 <=> 1 -- prob: 0.8199\n",
      "0 <=> 0 -- prob: 0.4237\n",
      "0 <=> 0 -- prob: 0.4699\n",
      "0 <=> 1 -- prob: 0.5013\n",
      "0 <=> 0 -- prob: 0.49\n",
      "1 <=> 0 -- prob: 0.4452\n",
      "0 <=> 0 -- prob: 0.4642\n",
      "\n",
      "Accuracy: 0.5483870967741935\n"
     ]
    }
   ],
   "source": [
    "acc = 0.0\n",
    "for i, rest in enumerate(yMx4_2):\n",
    "    cls, prob = classifyBi(thetaBest, XMx4_2_norm[i])\n",
    "    if i < 10:\n",
    "        print(int(yMx4_2[i].item()), \"<=>\", cls, \"-- prob:\", round(prob, 4))\n",
    "    acc += cls == yMx4_2[i].item()\n",
    "\n",
    "print(\"\\nAccuracy:\", acc / len(XMx4_2_norm))"
   ]
  },
  {
   "cell_type": "code",
   "execution_count": 109,
   "id": "dd37f836-5e68-41dd-8ceb-7a2248f92b48",
   "metadata": {},
   "outputs": [
    {
     "name": "stdout",
     "output_type": "stream",
     "text": [
      "1 <=> 1 -- prob: 0.5\n",
      "1 <=> 1 -- prob: 0.5\n",
      "0 <=> 0 -- prob: 0.5\n",
      "0 <=> 1 -- prob: 0.5\n",
      "0 <=> 1 -- prob: 0.5\n",
      "0 <=> 1 -- prob: 0.5\n",
      "0 <=> 0 -- prob: 0.5\n",
      "0 <=> 0 -- prob: 0.5\n",
      "1 <=> 1 -- prob: 0.5\n",
      "0 <=> 1 -- prob: 0.5\n",
      "\n",
      "Accuracy: 0.5583126550868487\n"
     ]
    }
   ],
   "source": [
    "import random\n",
    "\n",
    "acc = 0.0\n",
    "for i, rest in enumerate(yMx4_2):\n",
    "    cls, prob = (random.randint(0, 1), 0.5)\n",
    "    if i < 10:\n",
    "        print(int(yMx4_2[i].item()), \"<=>\", cls, \"-- prob:\", round(prob, 4))\n",
    "    acc += cls == yMx4_2[i].item()\n",
    "\n",
    "print(\"\\nAccuracy:\", acc / len(XMx4_2_norm))"
   ]
  }
 ],
 "metadata": {
  "kernelspec": {
   "display_name": "Python 3 (ipykernel)",
   "language": "python",
   "name": "python3"
  },
  "language_info": {
   "codemirror_mode": {
    "name": "ipython",
    "version": 3
   },
   "file_extension": ".py",
   "mimetype": "text/x-python",
   "name": "python",
   "nbconvert_exporter": "python",
   "pygments_lexer": "ipython3",
   "version": "3.8.13"
  }
 },
 "nbformat": 4,
 "nbformat_minor": 5
}
